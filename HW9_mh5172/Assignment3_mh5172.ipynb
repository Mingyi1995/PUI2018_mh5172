{
 "cells": [
  {
   "cell_type": "markdown",
   "metadata": {
    "run_control": {
     "frozen": false,
     "read_only": false
    },
    "toc": "true"
   },
   "source": [
    "# Table of Contents\n",
    " <p><div class=\"lev1 toc-item\"><a href=\"#DATA:\" data-toc-modified-id=\"DATA:-1\"><span class=\"toc-item-num\">1&nbsp;&nbsp;</span>DATA:</a></div><div class=\"lev1 toc-item\"><a href=\"#exploration\" data-toc-modified-id=\"exploration-2\"><span class=\"toc-item-num\">2&nbsp;&nbsp;</span>exploration</a></div><div class=\"lev2 toc-item\"><a href=\"#plot-mass-shooting-vs-gdp-in-absolute-numbers,-and-per-person.-Show-the-errorbars-(y-errors)\" data-toc-modified-id=\"plot-mass-shooting-vs-gdp-in-absolute-numbers,-and-per-person.-Show-the-errorbars-(y-errors)-21\"><span class=\"toc-item-num\">2.1&nbsp;&nbsp;</span>plot mass shooting vs gdp in absolute numbers, and per person. Show the errorbars (y errors)</a></div><div class=\"lev2 toc-item\"><a href=\"#plot-the-average-number-of-civilian-fire-arms-per-person\" data-toc-modified-id=\"plot-the-average-number-of-civilian-fire-arms-per-person-22\"><span class=\"toc-item-num\">2.2&nbsp;&nbsp;</span>plot the average number of civilian fire arms per person</a></div><div class=\"lev2 toc-item\"><a href=\"#plot-the-average-number-of-homicide-by-fire-arms-per-person\" data-toc-modified-id=\"plot-the-average-number-of-homicide-by-fire-arms-per-person-23\"><span class=\"toc-item-num\">2.3&nbsp;&nbsp;</span>plot the average number of homicide by fire arms per person</a></div><div class=\"lev2 toc-item\"><a href=\"#plot-the-number-of--homicides-by-fire-arm-against-the-number-of-civilian-firearms.-plot-the--US-in-a-different-color\" data-toc-modified-id=\"plot-the-number-of--homicides-by-fire-arm-against-the-number-of-civilian-firearms.-plot-the--US-in-a-different-color-24\"><span class=\"toc-item-num\">2.4&nbsp;&nbsp;</span>plot the number of  homicides by fire arm against the number of civilian firearms. plot the  US in a different color</a></div><div class=\"lev2 toc-item\"><a href=\"#plot-the-number-of--mass-shootings-against-the-number-of-civilian-firearms.-plot-the--US-in-a-different-color\" data-toc-modified-id=\"plot-the-number-of--mass-shootings-against-the-number-of-civilian-firearms.-plot-the--US-in-a-different-color-25\"><span class=\"toc-item-num\">2.5&nbsp;&nbsp;</span>plot the number of  mass shootings against the number of civilian firearms. plot the  US in a different color</a></div><div class=\"lev1 toc-item\"><a href=\"#Modeling\" data-toc-modified-id=\"Modeling-3\"><span class=\"toc-item-num\">3&nbsp;&nbsp;</span>Modeling</a></div><div class=\"lev2 toc-item\"><a href=\"#fit-a-line-to-the-Number-of-mass-shootings--per-person-as-a-function-of-Average-total-all-civilian-firearms-per-person.\" data-toc-modified-id=\"fit-a-line-to-the-Number-of-mass-shootings--per-person-as-a-function-of-Average-total-all-civilian-firearms-per-person.-31\"><span class=\"toc-item-num\">3.1&nbsp;&nbsp;</span>fit a line to the Number of mass shootings  per person as a function of Average total all civilian firearms per person.</a></div><div class=\"lev2 toc-item\"><a href=\"#Outlier-removal:\" data-toc-modified-id=\"Outlier-removal:-32\"><span class=\"toc-item-num\">3.2&nbsp;&nbsp;</span>Outlier removal:</a></div><div class=\"lev2 toc-item\"><a href=\"#Extra-credit:-calculate-the-confidence-interval-by-hand-and-also-plot-them\" data-toc-modified-id=\"Extra-credit:-calculate-the-confidence-interval-by-hand-and-also-plot-them-33\"><span class=\"toc-item-num\">3.3&nbsp;&nbsp;</span>Extra credit: calculate the confidence interval by hand and also plot them</a></div><div class=\"lev2 toc-item\"><a href=\"#Use-the-stsatsmodels.gaphics-package-to-plot-the-influence-plot.\" data-toc-modified-id=\"Use-the-stsatsmodels.gaphics-package-to-plot-the-influence-plot.-34\"><span class=\"toc-item-num\">3.4&nbsp;&nbsp;</span>Use the stsatsmodels.gaphics package to plot the influence plot.</a></div><div class=\"lev2 toc-item\"><a href=\"#Extra-credit:-calculate-from-scratch-the-stanrdardized-residuals-and-the-H-leverage-for-the-WLS-model-and-discuss-if-there-are-any-differences\" data-toc-modified-id=\"Extra-credit:-calculate-from-scratch-the-stanrdardized-residuals-and-the-H-leverage-for-the-WLS-model-and-discuss-if-there-are-any-differences-35\"><span class=\"toc-item-num\">3.5&nbsp;&nbsp;</span>Extra credit: calculate from scratch the stanrdardized residuals and the H leverage for the WLS model and discuss if there are any differences</a></div><div class=\"lev2 toc-item\"><a href=\"#Discuss-your-findings\" data-toc-modified-id=\"Discuss-your-findings-36\"><span class=\"toc-item-num\">3.6&nbsp;&nbsp;</span>Discuss your findings</a></div>"
   ]
  },
  {
   "cell_type": "markdown",
   "metadata": {
    "run_control": {
     "frozen": false,
     "read_only": false
    }
   },
   "source": [
    "**regression exercise**\n",
    "\n",
    "**written by Federica B Bianco CUSP 2017**\n",
    "\n",
    "**for PUI lecture on models and linear regression**"
   ]
  },
  {
   "cell_type": "markdown",
   "metadata": {
    "run_control": {
     "frozen": false,
     "read_only": false
    }
   },
   "source": [
    "**investigate linear relationships between fire arm possession, homicides by fire arms, and mass shootings for different countries, considering also the country GDP**"
   ]
  },
  {
   "cell_type": "markdown",
   "metadata": {
    "run_control": {
     "frozen": false,
     "read_only": false
    }
   },
   "source": [
    "# DATA: \n",
    "\n",
    "The Guardian firearms murders and ownership data. The relevans sheet is uploaded in the github repository as a csv file. Download it from there. Note: this dataset is from 2012.\n",
    "\n",
    "**Extra credit**: download directly from google docs with a google API\n",
    "\n",
    "https://docs.google.com/spreadsheets/d/1chqUZHuY6cXYrRYkuE0uwXisGaYvr7durZHJhpLGycs/edit#gid=0\n",
    "\n",
    "Number of mass shootings: find the link here https://datawrapper.dwcdn.net/pvLFI/4/\n",
    "\n",
    "The world population by country find the download link here :\n",
    "https://data.worldbank.org/indicator/SP.POP.TOTL\n",
    "\n",
    "Remember that all read or downloads have to me reproducible.\n",
    "\n",
    "Merge all datasets. After throwing away the irrelevant data it should look something like this (I renamed the GDP and the population as gdp\" and \"pop\")\n",
    "\n",
    "Throughout, when I ask you to include errors in plots or models, use Poisson statistics: the error is the square root of the number you are considering (e.g. this country has N fire arms +/- square root of N, or this country has Np [= N/population +/- (square root of N) / population] fire arms per person)."
   ]
  },
  {
   "cell_type": "code",
   "execution_count": 188,
   "metadata": {},
   "outputs": [
    {
     "name": "stdout",
     "output_type": "stream",
     "text": [
      "Populating the interactive namespace from numpy and matplotlib\n"
     ]
    }
   ],
   "source": [
    "import pandas as pd\n",
    "import pylab as pl\n",
    "import urllib\n",
    "from zipfile import ZipFile\n",
    "import numpy as np\n",
    "import matplotlib.pyplot as plt\n",
    "import seaborn as sns\n",
    "\n",
    "import statsmodels.formula.api as smf\n",
    "import statsmodels.api as sma\n",
    "from statsmodels.graphics.api import abline_plot\n",
    "%matplotlib inline\n",
    "%pylab inline"
   ]
  },
  {
   "cell_type": "code",
   "execution_count": 2,
   "metadata": {},
   "outputs": [
    {
     "name": "stdout",
     "output_type": "stream",
     "text": [
      "--2018-11-13 15:48:13--  https://docs.google.com/spreadsheets/d/1chqUZHuY6cXYrRYkuE0uwXisGaYvr7durZHJhpLGycs/export?format=csv\n",
      "Resolving docs.google.com (docs.google.com)... 216.58.217.142, 2607:f8b0:4004:80a::200e\n",
      "Connecting to docs.google.com (docs.google.com)|216.58.217.142|:443... connected.\n",
      "HTTP request sent, awaiting response... 200 OK\n",
      "Length: unspecified [text/csv]\n",
      "Saving to: ‘World_firearms_murders_and_ownership.csv’\n",
      "\n",
      "World_firearms_murd     [ <=>                ]   7.67K  --.-KB/s    in 0s      \n",
      "\n",
      "2018-11-13 15:48:14 (95.7 MB/s) - ‘World_firearms_murders_and_ownership.csv’ saved [7852]\n",
      "\n"
     ]
    }
   ],
   "source": [
    "# download world firearms murder and and ownership from google doc\n",
    "!wget https://docs.google.com/spreadsheets/d/1chqUZHuY6cXYrRYkuE0uwXisGaYvr7durZHJhpLGycs/export?format=csv -O World_firearms_murders_and_ownership.csv"
   ]
  },
  {
   "cell_type": "code",
   "execution_count": 3,
   "metadata": {},
   "outputs": [
    {
     "name": "stdout",
     "output_type": "stream",
     "text": [
      "--2018-11-13 15:48:14--  http://api.worldbank.org/v2/en/indicator/SP.POP.TOTL?downloadformat=csv\n",
      "Resolving api.worldbank.org (api.worldbank.org)... 52.202.62.171\n",
      "Connecting to api.worldbank.org (api.worldbank.org)|52.202.62.171|:80... connected.\n",
      "HTTP request sent, awaiting response... 200 OK\n",
      "Length: 79717 (78K) [application/zip]\n",
      "Saving to: ‘world_population_by_country.zip’\n",
      "\n",
      "world_population_by 100%[===================>]  77.85K  --.-KB/s    in 0.01s   \n",
      "\n",
      "2018-11-13 15:48:15 (6.29 MB/s) - ‘world_population_by_country.zip’ saved [79717/79717]\n",
      "\n"
     ]
    }
   ],
   "source": [
    "#download world population\n",
    "!wget http://api.worldbank.org/v2/en/indicator/SP.POP.TOTL?downloadformat=csv -O world_population_by_country.zip"
   ]
  },
  {
   "cell_type": "code",
   "execution_count": 4,
   "metadata": {},
   "outputs": [
    {
     "name": "stdout",
     "output_type": "stream",
     "text": [
      "--2018-11-13 15:48:17--  http://api.worldbank.org/v2/en/indicator/NY.GDP.MKTP.CD?downloadformat=csv\n",
      "Resolving api.worldbank.org (api.worldbank.org)... 52.202.62.171\n",
      "Connecting to api.worldbank.org (api.worldbank.org)|52.202.62.171|:80... connected.\n",
      "HTTP request sent, awaiting response... 200 OK\n",
      "Length: 116071 (113K) [application/zip]\n",
      "Saving to: ‘world_gdp.zip’\n",
      "\n",
      "world_gdp.zip       100%[===================>] 113.35K  --.-KB/s    in 0.02s   \n",
      "\n",
      "2018-11-13 15:48:17 (5.16 MB/s) - ‘world_gdp.zip’ saved [116071/116071]\n",
      "\n"
     ]
    }
   ],
   "source": [
    "#download world gdp\n",
    "!wget http://api.worldbank.org/v2/en/indicator/NY.GDP.MKTP.CD?downloadformat=csv -O world_gdp.zip"
   ]
  },
  {
   "cell_type": "code",
   "execution_count": 5,
   "metadata": {},
   "outputs": [],
   "source": [
    "#download number of mass shootings data\n",
    "url = \"data:application/octet-stream;charset=utf-8,Country%2CGuns%20per%20100%20inhabitants%2CNumber%20of%20mass%20shootings%20(1983-2013)%0AAustralia%2C15%2C4%0AAustria%2C30.4%2C1%0ABelgium%2C17.2%2C2%0ACanada%2C30.8%2C4%0ADenmark%2C12%2C0%0AFinland%2C45.3%2C2%0AFrance%2C31.2%2C6%0AGermany%2C30.3%2C7%0AGreece%2C22.5%2C0%0AHolland%2C3.9%2C2%0AHungary%2C5.5%2C0%0AIceland%2C30.3%2C0%0AIreland%2C8.6%2C0%0AItaly%2C11.9%2C0%0AJapan%2C0.6%2C0%0ALuxembourg%2C15.3%2C0%0ANew%20Zealand%2C22.6%2C3%0ANorway%2C31.3%2C1%0APoland%2C1.3%2C0%0APortugal%2C8.5%2C1%0ASpain%2C10.4%2C1%0ASweden%2C31.6%2C2%0ASwitzerland%2C45.7%2C2%0AUnited%20Kingdom%2C6.2%2C3%0AUnited%20States%2C88.8%2C78\"\n",
    "data = urllib.request.urlretrieve(url,'Number of mass shootings.csv')\n"
   ]
  },
  {
   "cell_type": "code",
   "execution_count": 6,
   "metadata": {},
   "outputs": [
    {
     "data": {
      "text/html": [
       "<div>\n",
       "<table border=\"1\" class=\"dataframe\">\n",
       "  <thead>\n",
       "    <tr style=\"text-align: right;\">\n",
       "      <th></th>\n",
       "      <th>Country/Territory</th>\n",
       "      <th>Number of homicides by firearm</th>\n",
       "      <th>Average total all civilian firearms</th>\n",
       "    </tr>\n",
       "  </thead>\n",
       "  <tbody>\n",
       "    <tr>\n",
       "      <th>0</th>\n",
       "      <td>Albania</td>\n",
       "      <td>56.0</td>\n",
       "      <td>270000.0</td>\n",
       "    </tr>\n",
       "    <tr>\n",
       "      <th>1</th>\n",
       "      <td>Algeria</td>\n",
       "      <td>20.0</td>\n",
       "      <td>1900000.0</td>\n",
       "    </tr>\n",
       "    <tr>\n",
       "      <th>2</th>\n",
       "      <td>Angola</td>\n",
       "      <td>NaN</td>\n",
       "      <td>2800000.0</td>\n",
       "    </tr>\n",
       "    <tr>\n",
       "      <th>3</th>\n",
       "      <td>Anguilla</td>\n",
       "      <td>1.0</td>\n",
       "      <td>NaN</td>\n",
       "    </tr>\n",
       "    <tr>\n",
       "      <th>4</th>\n",
       "      <td>Argentina</td>\n",
       "      <td>1198.0</td>\n",
       "      <td>3950000.0</td>\n",
       "    </tr>\n",
       "  </tbody>\n",
       "</table>\n",
       "</div>"
      ],
      "text/plain": [
       "  Country/Territory  Number of homicides by firearm  \\\n",
       "0           Albania                            56.0   \n",
       "1           Algeria                            20.0   \n",
       "2            Angola                             NaN   \n",
       "3          Anguilla                             1.0   \n",
       "4         Argentina                          1198.0   \n",
       "\n",
       "   Average total all civilian firearms  \n",
       "0                             270000.0  \n",
       "1                            1900000.0  \n",
       "2                            2800000.0  \n",
       "3                                  NaN  \n",
       "4                            3950000.0  "
      ]
     },
     "execution_count": 6,
     "metadata": {},
     "output_type": "execute_result"
    }
   ],
   "source": [
    "#read murder data\n",
    "cols = ['Country/Territory','Number of homicides by firearm','Average total all civilian firearms']\n",
    "df_murder = pd.read_csv('World_firearms_murders_and_ownership.csv',usecols=cols)\n",
    "df_murder.head()"
   ]
  },
  {
   "cell_type": "code",
   "execution_count": 7,
   "metadata": {},
   "outputs": [
    {
     "data": {
      "text/html": [
       "<div>\n",
       "<table border=\"1\" class=\"dataframe\">\n",
       "  <thead>\n",
       "    <tr style=\"text-align: right;\">\n",
       "      <th></th>\n",
       "      <th>Country</th>\n",
       "      <th>Guns per 100 inhabitants</th>\n",
       "      <th>Number of mass shootings (1983-2013)</th>\n",
       "    </tr>\n",
       "  </thead>\n",
       "  <tbody>\n",
       "    <tr>\n",
       "      <th>0</th>\n",
       "      <td>Australia</td>\n",
       "      <td>15.0</td>\n",
       "      <td>4</td>\n",
       "    </tr>\n",
       "    <tr>\n",
       "      <th>1</th>\n",
       "      <td>Austria</td>\n",
       "      <td>30.4</td>\n",
       "      <td>1</td>\n",
       "    </tr>\n",
       "    <tr>\n",
       "      <th>2</th>\n",
       "      <td>Belgium</td>\n",
       "      <td>17.2</td>\n",
       "      <td>2</td>\n",
       "    </tr>\n",
       "    <tr>\n",
       "      <th>3</th>\n",
       "      <td>Canada</td>\n",
       "      <td>30.8</td>\n",
       "      <td>4</td>\n",
       "    </tr>\n",
       "    <tr>\n",
       "      <th>4</th>\n",
       "      <td>Denmark</td>\n",
       "      <td>12.0</td>\n",
       "      <td>0</td>\n",
       "    </tr>\n",
       "  </tbody>\n",
       "</table>\n",
       "</div>"
      ],
      "text/plain": [
       "     Country  Guns per 100 inhabitants  Number of mass shootings (1983-2013)\n",
       "0  Australia                      15.0                                     4\n",
       "1    Austria                      30.4                                     1\n",
       "2    Belgium                      17.2                                     2\n",
       "3     Canada                      30.8                                     4\n",
       "4    Denmark                      12.0                                     0"
      ]
     },
     "execution_count": 7,
     "metadata": {},
     "output_type": "execute_result"
    }
   ],
   "source": [
    "#read massive shooting data\n",
    "df_mass = pd.read_csv('Number of mass shootings.csv')\n",
    "df_mass.head()"
   ]
  },
  {
   "cell_type": "code",
   "execution_count": 8,
   "metadata": {},
   "outputs": [],
   "source": [
    "pop_zip = ZipFile('world_population_by_country.zip')\n",
    "pop_zip.extractall()"
   ]
  },
  {
   "cell_type": "code",
   "execution_count": 9,
   "metadata": {},
   "outputs": [],
   "source": [
    "gdp_zip = ZipFile('world_gdp.zip')\n",
    "gdp_zip.extractall()"
   ]
  },
  {
   "cell_type": "code",
   "execution_count": 10,
   "metadata": {},
   "outputs": [
    {
     "data": {
      "text/html": [
       "<div>\n",
       "<table border=\"1\" class=\"dataframe\">\n",
       "  <thead>\n",
       "    <tr style=\"text-align: right;\">\n",
       "      <th></th>\n",
       "      <th>Country Name</th>\n",
       "      <th>pop</th>\n",
       "    </tr>\n",
       "  </thead>\n",
       "  <tbody>\n",
       "    <tr>\n",
       "      <th>0</th>\n",
       "      <td>Aruba</td>\n",
       "      <td>102577.0</td>\n",
       "    </tr>\n",
       "    <tr>\n",
       "      <th>1</th>\n",
       "      <td>Afghanistan</td>\n",
       "      <td>30696958.0</td>\n",
       "    </tr>\n",
       "    <tr>\n",
       "      <th>2</th>\n",
       "      <td>Angola</td>\n",
       "      <td>25096150.0</td>\n",
       "    </tr>\n",
       "    <tr>\n",
       "      <th>3</th>\n",
       "      <td>Albania</td>\n",
       "      <td>2900401.0</td>\n",
       "    </tr>\n",
       "    <tr>\n",
       "      <th>4</th>\n",
       "      <td>Andorra</td>\n",
       "      <td>82431.0</td>\n",
       "    </tr>\n",
       "  </tbody>\n",
       "</table>\n",
       "</div>"
      ],
      "text/plain": [
       "  Country Name         pop\n",
       "0        Aruba    102577.0\n",
       "1  Afghanistan  30696958.0\n",
       "2       Angola  25096150.0\n",
       "3      Albania   2900401.0\n",
       "4      Andorra     82431.0"
      ]
     },
     "execution_count": 10,
     "metadata": {},
     "output_type": "execute_result"
    }
   ],
   "source": [
    "#read population data\n",
    "cols = [\"Country Name\",\"2012\"]\n",
    "df_pop = pd.read_csv('API_SP.POP.TOTL_DS2_en_csv_v2_10203548.csv',skiprows=[0,1,2,3],usecols =cols)\n",
    "df_pop.rename(columns={'2012':'pop'},inplace=True)\n",
    "df_pop.head()"
   ]
  },
  {
   "cell_type": "code",
   "execution_count": 11,
   "metadata": {},
   "outputs": [
    {
     "data": {
      "text/html": [
       "<div>\n",
       "<table border=\"1\" class=\"dataframe\">\n",
       "  <thead>\n",
       "    <tr style=\"text-align: right;\">\n",
       "      <th></th>\n",
       "      <th>Country Name</th>\n",
       "      <th>gdp</th>\n",
       "    </tr>\n",
       "  </thead>\n",
       "  <tbody>\n",
       "    <tr>\n",
       "      <th>0</th>\n",
       "      <td>Aruba</td>\n",
       "      <td>NaN</td>\n",
       "    </tr>\n",
       "    <tr>\n",
       "      <th>1</th>\n",
       "      <td>Afghanistan</td>\n",
       "      <td>2.053654e+10</td>\n",
       "    </tr>\n",
       "    <tr>\n",
       "      <th>2</th>\n",
       "      <td>Angola</td>\n",
       "      <td>1.139232e+11</td>\n",
       "    </tr>\n",
       "    <tr>\n",
       "      <th>3</th>\n",
       "      <td>Albania</td>\n",
       "      <td>1.231978e+10</td>\n",
       "    </tr>\n",
       "    <tr>\n",
       "      <th>4</th>\n",
       "      <td>Andorra</td>\n",
       "      <td>3.164615e+09</td>\n",
       "    </tr>\n",
       "  </tbody>\n",
       "</table>\n",
       "</div>"
      ],
      "text/plain": [
       "  Country Name           gdp\n",
       "0        Aruba           NaN\n",
       "1  Afghanistan  2.053654e+10\n",
       "2       Angola  1.139232e+11\n",
       "3      Albania  1.231978e+10\n",
       "4      Andorra  3.164615e+09"
      ]
     },
     "execution_count": 11,
     "metadata": {},
     "output_type": "execute_result"
    }
   ],
   "source": [
    "#read gdp data\n",
    "\n",
    "cols = [\"Country Name\",\"2012\"]\n",
    "df_gdp = pd.read_csv('API_NY.GDP.MKTP.CD_DS2_en_csv_v2_10203569.csv',skiprows=[0,1,2,3],usecols =cols)\n",
    "df_gdp.rename(columns={'2012':'gdp'},inplace=True)\n",
    "df_gdp.head()"
   ]
  },
  {
   "cell_type": "code",
   "execution_count": 12,
   "metadata": {
    "ExecuteTime": {
     "end_time": "2017-10-12T11:18:40.575581",
     "start_time": "2017-10-12T11:18:40.446116"
    },
    "run_control": {
     "frozen": false,
     "read_only": false
    }
   },
   "outputs": [
    {
     "data": {
      "text/html": [
       "<div>\n",
       "<table border=\"1\" class=\"dataframe\">\n",
       "  <thead>\n",
       "    <tr style=\"text-align: right;\">\n",
       "      <th></th>\n",
       "      <th>Country</th>\n",
       "      <th>Number of homicides by firearm</th>\n",
       "      <th>Average total all civilian firearms</th>\n",
       "      <th>Guns per 100 inhabitants</th>\n",
       "      <th>Number of mass shootings</th>\n",
       "      <th>pop</th>\n",
       "      <th>gdp</th>\n",
       "    </tr>\n",
       "  </thead>\n",
       "  <tbody>\n",
       "    <tr>\n",
       "      <th>0</th>\n",
       "      <td>Australia</td>\n",
       "      <td>30.0</td>\n",
       "      <td>3050000.0</td>\n",
       "      <td>15.0</td>\n",
       "      <td>4</td>\n",
       "      <td>22742475.0</td>\n",
       "      <td>1.543411e+12</td>\n",
       "    </tr>\n",
       "    <tr>\n",
       "      <th>1</th>\n",
       "      <td>Austria</td>\n",
       "      <td>18.0</td>\n",
       "      <td>2500000.0</td>\n",
       "      <td>30.4</td>\n",
       "      <td>1</td>\n",
       "      <td>8429991.0</td>\n",
       "      <td>4.094252e+11</td>\n",
       "    </tr>\n",
       "    <tr>\n",
       "      <th>2</th>\n",
       "      <td>Belgium</td>\n",
       "      <td>70.0</td>\n",
       "      <td>1800000.0</td>\n",
       "      <td>17.2</td>\n",
       "      <td>2</td>\n",
       "      <td>11128246.0</td>\n",
       "      <td>4.978842e+11</td>\n",
       "    </tr>\n",
       "    <tr>\n",
       "      <th>3</th>\n",
       "      <td>Canada</td>\n",
       "      <td>173.0</td>\n",
       "      <td>9950000.0</td>\n",
       "      <td>30.8</td>\n",
       "      <td>4</td>\n",
       "      <td>34750545.0</td>\n",
       "      <td>1.824289e+12</td>\n",
       "    </tr>\n",
       "    <tr>\n",
       "      <th>4</th>\n",
       "      <td>Denmark</td>\n",
       "      <td>15.0</td>\n",
       "      <td>650000.0</td>\n",
       "      <td>12.0</td>\n",
       "      <td>0</td>\n",
       "      <td>5591572.0</td>\n",
       "      <td>3.271489e+11</td>\n",
       "    </tr>\n",
       "  </tbody>\n",
       "</table>\n",
       "</div>"
      ],
      "text/plain": [
       "     Country  Number of homicides by firearm  \\\n",
       "0  Australia                            30.0   \n",
       "1    Austria                            18.0   \n",
       "2    Belgium                            70.0   \n",
       "3     Canada                           173.0   \n",
       "4    Denmark                            15.0   \n",
       "\n",
       "   Average total all civilian firearms  Guns per 100 inhabitants  \\\n",
       "0                            3050000.0                      15.0   \n",
       "1                            2500000.0                      30.4   \n",
       "2                            1800000.0                      17.2   \n",
       "3                            9950000.0                      30.8   \n",
       "4                             650000.0                      12.0   \n",
       "\n",
       "   Number of mass shootings         pop           gdp  \n",
       "0                         4  22742475.0  1.543411e+12  \n",
       "1                         1   8429991.0  4.094252e+11  \n",
       "2                         2  11128246.0  4.978842e+11  \n",
       "3                         4  34750545.0  1.824289e+12  \n",
       "4                         0   5591572.0  3.271489e+11  "
      ]
     },
     "execution_count": 12,
     "metadata": {},
     "output_type": "execute_result"
    }
   ],
   "source": [
    "#merge downloaded all data sets\n",
    "df = df_murder.merge(df_mass, left_on=\"Country/Territory\", right_on=\"Country\")\n",
    "df = df.merge(df_pop,left_on=\"Country/Territory\",right_on='Country Name')\n",
    "df_ = df.merge(df_gdp,left_on=\"Country/Territory\",right_on='Country Name')\n",
    "del df_['Country Name_x']\n",
    "del df_['Country Name_y']\n",
    "del df_['Country']\n",
    "df_.rename(columns={'Country/Territory':'Country',\n",
    "                    'Number of mass shootings (1983-2013)':'Number of mass shootings'},inplace=True)\n",
    "df_.head()"
   ]
  },
  {
   "cell_type": "markdown",
   "metadata": {
    "run_control": {
     "frozen": false,
     "read_only": false
    }
   },
   "source": [
    "# exploration\n",
    "\n",
    "## plot mass shooting vs gdp in absolute numbers, and per person. Show the errorbars (y errors)\n",
    "\n",
    "Use Poisson statistics for the errorbars on the number of mass shootings (optional: include errors on the population, also as Poisson statistics)\n",
    "\n",
    "Are there any points that look like they may be outilers?\n"
   ]
  },
  {
   "cell_type": "code",
   "execution_count": 30,
   "metadata": {
    "ExecuteTime": {
     "end_time": "2017-10-12T11:24:38.210994",
     "start_time": "2017-10-12T11:24:37.927232"
    },
    "run_control": {
     "frozen": false,
     "read_only": false
    }
   },
   "outputs": [
    {
     "name": "stderr",
     "output_type": "stream",
     "text": [
      "/usr/local/Anaconda3-5.0.0-Linux-x86_64/envs/PUI2016_Python3/lib/python3.5/site-packages/matplotlib/font_manager.py:1316: UserWarning: findfont: Font family ['sans-serif'] not found. Falling back to DejaVu Sans\n",
      "  (prop.get_family(), self.defaultFamily[fontext]))\n"
     ]
    },
    {
     "data": {
      "image/png": "[encoded data removed]",
      "text/plain": [
       "<matplotlib.figure.Figure at 0x7fc703cb3048>"
      ]
     },
     "metadata": {},
     "output_type": "display_data"
    },
    {
     "name": "stdout",
     "output_type": "stream",
     "text": [
      "Number of mass shooting vs GDP, errors represent Poisson statistics.\n",
      "The datapoint to the top right of the plot is the USA, which has both the highest GDP and the highest number of mass shootings\n"
     ]
    }
   ],
   "source": [
    "fig = pl.figure(figsize=(10,5)) \n",
    "ax = fig.add_subplot(111)\n",
    "\n",
    "scatter = ax.scatter(df_.gdp / 1e9, df_['Number of mass shootings'])\n",
    "ax.errorbar(df_.gdp / 1e9, df_['Number of mass shootings'], \n",
    "            yerr = np.sqrt(df_['Number of mass shootings'] * 1.0), fmt = '.')\n",
    "ax.set_xlabel(\"GDP (in billions)\")\n",
    "ax.set_ylabel(\"Number of mass shooting per person\")\n",
    "ax.set_ylim()\n",
    "pl.show()\n",
    "print (\"Number of mass shooting vs GDP per person, \" + \n",
    "       \"errors represent Poisson statistics.\\n\" + \n",
    "       \"The datapoint to the top right of the plot is the USA, \" + \n",
    "       \"which has both the highest GDP and the highest number of mass shootings\")\n"
   ]
  },
  {
   "cell_type": "code",
   "execution_count": 74,
   "metadata": {},
   "outputs": [
    {
     "name": "stderr",
     "output_type": "stream",
     "text": [
      "/usr/local/Anaconda3-5.0.0-Linux-x86_64/envs/PUI2016_Python3/lib/python3.5/site-packages/matplotlib/font_manager.py:1316: UserWarning: findfont: Font family ['sans-serif'] not found. Falling back to DejaVu Sans\n",
      "  (prop.get_family(), self.defaultFamily[fontext]))\n"
     ]
    },
    {
     "data": {
      "image/png": "[encoded data removed]",
      "text/plain": [
       "<matplotlib.figure.Figure at 0x7fc703bf95f8>"
      ]
     },
     "metadata": {},
     "output_type": "display_data"
    },
    {
     "name": "stdout",
     "output_type": "stream",
     "text": [
      "Number of mass shooting vs GDP, errors represent Poisson statistics.\n",
      "in the case, US is still very significant, \n",
      "the value of GDP per person in USA is about the median,\n",
      "but the number of mass shooting per person is obviously larger others\n"
     ]
    }
   ],
   "source": [
    "fig = pl.figure(figsize=(10,5)) \n",
    "ax = fig.add_subplot(111)\n",
    "df_['gdp_per_person'] = df_['gdp']/df_['pop']\n",
    "scatter = ax.scatter(df_['gdp_per_person'], df_['Number of mass shootings'])\n",
    "ax.errorbar(df_['gdp_per_person'], df_['Number of mass shootings'], \n",
    "            yerr = np.sqrt(df_['Number of mass shootings'] * 1.0), fmt = '.')\n",
    "ax.set_xlabel(\"GDP per person\")\n",
    "ax.set_ylabel(\"Number of mass shooting per person\")\n",
    "ax.set_ylim()\n",
    "pl.show()\n",
    "print (\"Number of mass shooting vs GDP, \" + \n",
    "       \"errors represent Poisson statistics.\\n\" + \n",
    "         'in the case, US is still very significant, \\n'+\n",
    "      'the value of GDP per person in USA is about the median,\\n' +\n",
    "      'but the number of mass shooting per person is obviously larger others')"
   ]
  },
  {
   "cell_type": "markdown",
   "metadata": {
    "run_control": {
     "frozen": false,
     "read_only": false
    }
   },
   "source": [
    "## plot the average number of civilian fire arms per person\n",
    "first without errors, then with errors. are there  points that look like outliers?"
   ]
  },
  {
   "cell_type": "code",
   "execution_count": 66,
   "metadata": {},
   "outputs": [
    {
     "data": {
      "text/html": [
       "<div>\n",
       "<table border=\"1\" class=\"dataframe\">\n",
       "  <thead>\n",
       "    <tr style=\"text-align: right;\">\n",
       "      <th></th>\n",
       "      <th>Country</th>\n",
       "      <th>Number of homicides by firearm</th>\n",
       "      <th>Average total all civilian firearms</th>\n",
       "      <th>Guns per 100 inhabitants</th>\n",
       "      <th>Number of mass shootings</th>\n",
       "      <th>pop</th>\n",
       "      <th>gdp</th>\n",
       "      <th>shootingspp</th>\n",
       "      <th>average_num_homicide_per</th>\n",
       "    </tr>\n",
       "  </thead>\n",
       "  <tbody>\n",
       "    <tr>\n",
       "      <th>0</th>\n",
       "      <td>Australia</td>\n",
       "      <td>30.0</td>\n",
       "      <td>3050000.0</td>\n",
       "      <td>15.0</td>\n",
       "      <td>4</td>\n",
       "      <td>22742475.0</td>\n",
       "      <td>1.543411e+12</td>\n",
       "      <td>1.758824e-10</td>\n",
       "      <td>0.000001</td>\n",
       "    </tr>\n",
       "    <tr>\n",
       "      <th>1</th>\n",
       "      <td>Austria</td>\n",
       "      <td>18.0</td>\n",
       "      <td>2500000.0</td>\n",
       "      <td>30.4</td>\n",
       "      <td>1</td>\n",
       "      <td>8429991.0</td>\n",
       "      <td>4.094252e+11</td>\n",
       "      <td>1.186241e-10</td>\n",
       "      <td>0.000002</td>\n",
       "    </tr>\n",
       "    <tr>\n",
       "      <th>2</th>\n",
       "      <td>Belgium</td>\n",
       "      <td>70.0</td>\n",
       "      <td>1800000.0</td>\n",
       "      <td>17.2</td>\n",
       "      <td>2</td>\n",
       "      <td>11128246.0</td>\n",
       "      <td>4.978842e+11</td>\n",
       "      <td>1.797228e-10</td>\n",
       "      <td>0.000006</td>\n",
       "    </tr>\n",
       "    <tr>\n",
       "      <th>3</th>\n",
       "      <td>Canada</td>\n",
       "      <td>173.0</td>\n",
       "      <td>9950000.0</td>\n",
       "      <td>30.8</td>\n",
       "      <td>4</td>\n",
       "      <td>34750545.0</td>\n",
       "      <td>1.824289e+12</td>\n",
       "      <td>1.151061e-10</td>\n",
       "      <td>0.000005</td>\n",
       "    </tr>\n",
       "    <tr>\n",
       "      <th>4</th>\n",
       "      <td>Denmark</td>\n",
       "      <td>15.0</td>\n",
       "      <td>650000.0</td>\n",
       "      <td>12.0</td>\n",
       "      <td>0</td>\n",
       "      <td>5591572.0</td>\n",
       "      <td>3.271489e+11</td>\n",
       "      <td>0.000000e+00</td>\n",
       "      <td>0.000003</td>\n",
       "    </tr>\n",
       "  </tbody>\n",
       "</table>\n",
       "</div>"
      ],
      "text/plain": [
       "     Country  Number of homicides by firearm  \\\n",
       "0  Australia                            30.0   \n",
       "1    Austria                            18.0   \n",
       "2    Belgium                            70.0   \n",
       "3     Canada                           173.0   \n",
       "4    Denmark                            15.0   \n",
       "\n",
       "   Average total all civilian firearms  Guns per 100 inhabitants  \\\n",
       "0                            3050000.0                      15.0   \n",
       "1                            2500000.0                      30.4   \n",
       "2                            1800000.0                      17.2   \n",
       "3                            9950000.0                      30.8   \n",
       "4                             650000.0                      12.0   \n",
       "\n",
       "   Number of mass shootings         pop           gdp   shootingspp  \\\n",
       "0                         4  22742475.0  1.543411e+12  1.758824e-10   \n",
       "1                         1   8429991.0  4.094252e+11  1.186241e-10   \n",
       "2                         2  11128246.0  4.978842e+11  1.797228e-10   \n",
       "3                         4  34750545.0  1.824289e+12  1.151061e-10   \n",
       "4                         0   5591572.0  3.271489e+11  0.000000e+00   \n",
       "\n",
       "   average_num_homicide_per  \n",
       "0                  0.000001  \n",
       "1                  0.000002  \n",
       "2                  0.000006  \n",
       "3                  0.000005  \n",
       "4                  0.000003  "
      ]
     },
     "execution_count": 66,
     "metadata": {},
     "output_type": "execute_result"
    }
   ],
   "source": [
    "df_.head()"
   ]
  },
  {
   "cell_type": "code",
   "execution_count": 85,
   "metadata": {
    "ExecuteTime": {
     "end_time": "2017-10-12T07:17:52.778486",
     "start_time": "2017-10-12T07:17:52.768299"
    },
    "run_control": {
     "frozen": false,
     "read_only": false
    }
   },
   "outputs": [
    {
     "name": "stderr",
     "output_type": "stream",
     "text": [
      "/usr/local/Anaconda3-5.0.0-Linux-x86_64/envs/PUI2016_Python3/lib/python3.5/site-packages/matplotlib/font_manager.py:1316: UserWarning: findfont: Font family ['sans-serif'] not found. Falling back to DejaVu Sans\n",
      "  (prop.get_family(), self.defaultFamily[fontext]))\n"
     ]
    },
    {
     "data": {
      "image/png": "[encoded data removed]",
      "text/plain": [
       "<matplotlib.figure.Figure at 0x7fc7039c5a90>"
      ]
     },
     "metadata": {},
     "output_type": "display_data"
    },
    {
     "name": "stdout",
     "output_type": "stream",
     "text": [
      "number of civilian fire arms per million person vs GDP per person, \n",
      "errors represent Poisson statistics.\n",
      "in the case, without errorbar, there is no significant different between different countries \n",
      "but considering error, there still exsit an outstanding point in the middle\n"
     ]
    }
   ],
   "source": [
    "df_['shootingspp'] = df_[\"Number of mass shootings\"] / df_['pop'] * 1e6\n",
    "fig = pl.figure(figsize=(10,5)) \n",
    "ax = fig.add_subplot(111)\n",
    "scatter = ax.scatter(df_['gdp_per_person'], df_['shootingspp'])\n",
    "ax.errorbar(df_['gdp_per_person'], df_['shootingspp'], \n",
    "            yerr = np.sqrt(df_['shootingspp']), fmt = '.')\n",
    "ax.set_xlabel(\"GDP per person\")\n",
    "ax.set_ylabel(\"number of civilian fire arms per million person\")\n",
    "ax.set_ylim()\n",
    "pl.show()\n",
    "print (\"number of civilian fire arms per million person vs GDP per person, \\n\" + \n",
    "       \"errors represent Poisson statistics.\\n\" + \n",
    "        'in the case, without errorbar, there is no significant different between different countries \\n'+\n",
    "      'but considering error, there still exsit an outstanding point in the middle')"
   ]
  },
  {
   "cell_type": "markdown",
   "metadata": {
    "run_control": {
     "frozen": false,
     "read_only": false
    }
   },
   "source": [
    "## plot the average number of homicide by fire arms per person\n",
    "first as a histogram\n",
    "\n",
    "then against the country GDP, with statistical errors. are there  points that look like outliers?"
   ]
  },
  {
   "cell_type": "code",
   "execution_count": 88,
   "metadata": {
    "ExecuteTime": {
     "end_time": "2017-10-12T07:53:17.910541",
     "start_time": "2017-10-12T07:53:17.506477"
    },
    "run_control": {
     "frozen": false,
     "read_only": false
    }
   },
   "outputs": [
    {
     "name": "stdout",
     "output_type": "stream",
     "text": [
      "except one, the rest countries value of average number of homicide by fire arms per person is lower than 0.01, \n",
      " this value in USA is obviouly higher than others\n"
     ]
    },
    {
     "name": "stderr",
     "output_type": "stream",
     "text": [
      "/usr/local/Anaconda3-5.0.0-Linux-x86_64/envs/PUI2016_Python3/lib/python3.5/site-packages/matplotlib/font_manager.py:1316: UserWarning: findfont: Font family ['sans-serif'] not found. Falling back to DejaVu Sans\n",
      "  (prop.get_family(), self.defaultFamily[fontext]))\n"
     ]
    },
    {
     "data": {
      "image/png": "[encoded data removed]",
      "text/plain": [
       "<matplotlib.figure.Figure at 0x7fc703ba1438>"
      ]
     },
     "metadata": {},
     "output_type": "display_data"
    }
   ],
   "source": [
    "sns.set_style('darkgrid')\n",
    "df_['average_num_homicide_per'] = df_['Number of homicides by firearm'] / df_['pop'] \n",
    "fig, ax = plt.subplots()\n",
    "ax.hist(df_['average_num_homicide_per'] * 1000)\n",
    "ax.set_xlabel('homicides by firearm per 1000 people')\n",
    "print('except one, the rest countries value of average number of homicide by fire arms per person is lower than 0.01, \\n',\n",
    "     'this value in USA is obviouly higher than others')"
   ]
  },
  {
   "cell_type": "code",
   "execution_count": 43,
   "metadata": {},
   "outputs": [
    {
     "name": "stderr",
     "output_type": "stream",
     "text": [
      "/usr/local/Anaconda3-5.0.0-Linux-x86_64/envs/PUI2016_Python3/lib/python3.5/site-packages/matplotlib/font_manager.py:1316: UserWarning: findfont: Font family ['sans-serif'] not found. Falling back to DejaVu Sans\n",
      "  (prop.get_family(), self.defaultFamily[fontext]))\n"
     ]
    },
    {
     "data": {
      "image/png": "[encoded data removed]",
      "text/plain": [
       "<matplotlib.figure.Figure at 0x7fc703daf358>"
      ]
     },
     "metadata": {},
     "output_type": "display_data"
    }
   ],
   "source": [
    "fig = plt.figure(figsize=(10,5)) \n",
    "ax = fig.add_subplot(111)\n",
    "\n",
    "scatter = ax.scatter(df_['gdp'] / 1e9,df_['average_num_homicide_per'] * 1e6)\n",
    "ax.errorbar(df_.gdp / 1e9, df_['average_num_homicide_per'] * 1e6, \n",
    "            yerr = np.sqrt(df_['average_num_homicide_per'] * 1e6), fmt = '.')\n",
    "ax.set_xlabel(\"GDP (in billions)\")\n",
    "ax.set_ylabel(\"average number of homicide by fire arms per person\")\n",
    "plt.show()"
   ]
  },
  {
   "cell_type": "markdown",
   "metadata": {
    "run_control": {
     "frozen": false,
     "read_only": false
    }
   },
   "source": [
    "## plot the number of  homicides by fire arm against the number of civilian firearms. plot the  US in a different color\n",
    "with and without errorbars\n"
   ]
  },
  {
   "cell_type": "code",
   "execution_count": 95,
   "metadata": {},
   "outputs": [
    {
     "name": "stderr",
     "output_type": "stream",
     "text": [
      "/usr/local/Anaconda3-5.0.0-Linux-x86_64/envs/PUI2016_Python3/lib/python3.5/site-packages/matplotlib/font_manager.py:1316: UserWarning: findfont: Font family ['sans-serif'] not found. Falling back to DejaVu Sans\n",
      "  (prop.get_family(), self.defaultFamily[fontext]))\n"
     ]
    },
    {
     "data": {
      "image/png": "[encoded data removed]",
      "text/plain": [
       "<matplotlib.figure.Figure at 0x7fc703a89c50>"
      ]
     },
     "metadata": {},
     "output_type": "display_data"
    },
    {
     "name": "stdout",
     "output_type": "stream",
     "text": [
      "At the top right corner, there is a outlier which the number of homicides by firearm and average total all civilian \n",
      "firearms are both much higher than others\n"
     ]
    }
   ],
   "source": [
    "plt.figure(figsize=(10,5))\n",
    "plt.scatter(df_['Number of homicides by firearm'], df_['Average total all civilian firearms']/ 1e6,s=8)\n",
    "plt.xlabel(\"Number of homicides by firearm\")\n",
    "plt.ylabel(\"Average total all civilian firearms(in million)\")\n",
    "plt.show()\n",
    "print('At the top right corner, there is a outlier which the number of homicides by firearm and average total all civilian \\n'+\n",
    "     'firearms are both much higher than others')"
   ]
  },
  {
   "cell_type": "code",
   "execution_count": 91,
   "metadata": {},
   "outputs": [
    {
     "name": "stderr",
     "output_type": "stream",
     "text": [
      "/usr/local/Anaconda3-5.0.0-Linux-x86_64/envs/PUI2016_Python3/lib/python3.5/site-packages/matplotlib/font_manager.py:1316: UserWarning: findfont: Font family ['sans-serif'] not found. Falling back to DejaVu Sans\n",
      "  (prop.get_family(), self.defaultFamily[fontext]))\n"
     ]
    },
    {
     "data": {
      "image/png": "[encoded data removed]",
      "text/plain": [
       "<matplotlib.figure.Figure at 0x7fc703d82f98>"
      ]
     },
     "metadata": {},
     "output_type": "display_data"
    },
    {
     "name": "stdout",
     "output_type": "stream",
     "text": [
      "At the top right corner, there is a outlier which the number of homicides by firearm and average total all civilian \n",
      "firearms are both much higher than others\n"
     ]
    }
   ],
   "source": [
    "fig = plt.figure(figsize=(10,5)) \n",
    "ax = fig.add_subplot(111)\n",
    "\n",
    "scatter = ax.scatter(df_['Number of homicides by firearm'], df_['Average total all civilian firearms']/ 1e6,s=3)\n",
    "ax.errorbar(df_['Number of homicides by firearm'], df_['Average total all civilian firearms']/ 1e6, \n",
    "            yerr = np.sqrt(df_['Average total all civilian firearms'] / 1e6), fmt = '.')\n",
    "ax.set_xlabel(\"Number of homicides by firearm\")\n",
    "ax.set_ylabel(\"Average total all civilian firearms(in million)\")\n",
    "ax.set_ylim()\n",
    "plt.show()\n",
    "print('At the top right corner, there is a outlier which the number of homicides by firearm and average total all civilian \\n'+\n",
    "     'firearms are both much higher than others')"
   ]
  },
  {
   "cell_type": "markdown",
   "metadata": {
    "run_control": {
     "frozen": false,
     "read_only": false
    }
   },
   "source": [
    "## plot the number of  mass shootings against the number of civilian firearms. plot the  US in a different color\n",
    "with and without errorbars\n"
   ]
  },
  {
   "cell_type": "code",
   "execution_count": 100,
   "metadata": {},
   "outputs": [
    {
     "name": "stderr",
     "output_type": "stream",
     "text": [
      "/usr/local/Anaconda3-5.0.0-Linux-x86_64/envs/PUI2016_Python3/lib/python3.5/site-packages/matplotlib/font_manager.py:1316: UserWarning: findfont: Font family ['sans-serif'] not found. Falling back to DejaVu Sans\n",
      "  (prop.get_family(), self.defaultFamily[fontext]))\n"
     ]
    },
    {
     "data": {
      "image/png": "[encoded data removed]",
      "text/plain": [
       "<matplotlib.figure.Figure at 0x7fc703a3ab70>"
      ]
     },
     "metadata": {},
     "output_type": "display_data"
    },
    {
     "name": "stdout",
     "output_type": "stream",
     "text": [
      "from this plot, we can roughly tell that there is a tendency that the more average total civilian firearms, the more mass shootings \n"
     ]
    }
   ],
   "source": [
    "fig = plt.figure(figsize=(10,5)) \n",
    "plt.scatter(df_['Average total all civilian firearms']/ 1e7,df_['Number of mass shootings'] ,s=8)\n",
    "plt.ylabel(\"Number of mass shootings\")\n",
    "plt.xlabel(\"Average total all civilian firearms(in million)\")\n",
    "plt.show()\n",
    "print('from this plot, we can roughly tell that there is a tendency that the more average total civilian firearms, the more mass shootings ')"
   ]
  },
  {
   "cell_type": "code",
   "execution_count": 101,
   "metadata": {},
   "outputs": [
    {
     "name": "stderr",
     "output_type": "stream",
     "text": [
      "/usr/local/Anaconda3-5.0.0-Linux-x86_64/envs/PUI2016_Python3/lib/python3.5/site-packages/matplotlib/font_manager.py:1316: UserWarning: findfont: Font family ['sans-serif'] not found. Falling back to DejaVu Sans\n",
      "  (prop.get_family(), self.defaultFamily[fontext]))\n"
     ]
    },
    {
     "data": {
      "image/png": "[encoded data removed]",
      "text/plain": [
       "<matplotlib.figure.Figure at 0x7fc7036bd0f0>"
      ]
     },
     "metadata": {},
     "output_type": "display_data"
    },
    {
     "name": "stdout",
     "output_type": "stream",
     "text": [
      "from this plot, we can roughly tell that there is a tendency that the more average total civilian firearms, the more mass shootings \n"
     ]
    }
   ],
   "source": [
    "fig = plt.figure(figsize=(10,5)) \n",
    "ax = fig.add_subplot(111)\n",
    "\n",
    "scatter = ax.scatter(df_['Number of mass shootings'], df_['Average total all civilian firearms']/ 1e7,s=3)\n",
    "ax.errorbar(df_['Number of mass shootings'], df_['Average total all civilian firearms']/ 1e7, \n",
    "            yerr = np.sqrt(df_['Average total all civilian firearms'] / 1e7), fmt = '.')\n",
    "ax.set_xlabel(\"Number of mass shootings\")\n",
    "ax.set_ylabel(\"Average total all civilian firearms(in million)\")\n",
    "ax.set_ylim()\n",
    "plt.show()\n",
    "print('from this plot, we can roughly tell that there is a tendency that the more average total civilian firearms, the more mass shootings ')"
   ]
  },
  {
   "cell_type": "markdown",
   "metadata": {
    "run_control": {
     "frozen": false,
     "read_only": false
    }
   },
   "source": [
    "# Modeling\n",
    "\n",
    "## fit a line to the Number of mass shootings  per person as a function of Average total all civilian firearms per person. \n",
    "Before you do it it is a good idea to make sure that both quantities are roughly of the same order of magnitude (unity). (You can simply divide by the order of magnitude of the mean of the sample to obtain this). Use\n",
    "\n",
    "    - statsmodels OLS\n",
    "    - statsmodels WLS\n",
    "    - seaborn\n",
    "    - choose one of\n",
    "        -- creating a function that calculates the residuals and minimizing that function\n",
    "        -- analytical solution http://mathworld.wolfram.com/LeastSquaresFitting.html\n",
    "        -- numpy.polyfit() - https://docs.scipy.org/doc/numpy-1.13.0/reference/generated/numpy.polyfit.html\n",
    "    \n",
    "\n",
    "WLS: that is the weighted square fit. The statsmodel package WLS function allows you to take the uncertainties of each data point into account when you fit your model. It takes the parameter weights, which is the inverse of your errors:\n",
    "weights = 1.0/df.yerror\n",
    "Notice that \n",
    "    a - sqrt(0) = 0\n",
    "    b - 1/0 = infinity\n",
    "    c - you cannot have weight that are infinity in your fit. Please come up with a solution and justify it.\n",
    "\n",
    "\n",
    "the latter three you can learn about in this example: https://github.com/fedhere/PUI2017_fb55/blob/master/Lab5_fb55/genderIncomeBias.ipynb\n",
    "Since we did not discuss these, I will add some notes to the repo in the afternoon.\n",
    "\n",
    "Use the seaborn python package built in regression function  to plot the regression confidence intervals. \n",
    "\n",
    "import seaborn  as sns\n",
    "sns.regplot(x=\"x\", y=\"y\", data=df);\n",
    "\n",
    "\n"
   ]
  },
  {
   "cell_type": "code",
   "execution_count": 103,
   "metadata": {},
   "outputs": [
    {
     "data": {
      "text/html": [
       "<div>\n",
       "<table border=\"1\" class=\"dataframe\">\n",
       "  <thead>\n",
       "    <tr style=\"text-align: right;\">\n",
       "      <th></th>\n",
       "      <th>Country</th>\n",
       "      <th>Number of homicides by firearm</th>\n",
       "      <th>Average total all civilian firearms</th>\n",
       "      <th>Guns per 100 inhabitants</th>\n",
       "      <th>Number of mass shootings</th>\n",
       "      <th>pop</th>\n",
       "      <th>gdp</th>\n",
       "      <th>shootingspp</th>\n",
       "      <th>average_num_homicide_per</th>\n",
       "      <th>gdp_per_person</th>\n",
       "    </tr>\n",
       "  </thead>\n",
       "  <tbody>\n",
       "    <tr>\n",
       "      <th>0</th>\n",
       "      <td>Australia</td>\n",
       "      <td>30.0</td>\n",
       "      <td>3050000.0</td>\n",
       "      <td>15.0</td>\n",
       "      <td>4</td>\n",
       "      <td>22742475.0</td>\n",
       "      <td>1.543411e+12</td>\n",
       "      <td>0.175882</td>\n",
       "      <td>0.000001</td>\n",
       "      <td>67864.689862</td>\n",
       "    </tr>\n",
       "    <tr>\n",
       "      <th>1</th>\n",
       "      <td>Austria</td>\n",
       "      <td>18.0</td>\n",
       "      <td>2500000.0</td>\n",
       "      <td>30.4</td>\n",
       "      <td>1</td>\n",
       "      <td>8429991.0</td>\n",
       "      <td>4.094252e+11</td>\n",
       "      <td>0.118624</td>\n",
       "      <td>0.000002</td>\n",
       "      <td>48567.695286</td>\n",
       "    </tr>\n",
       "    <tr>\n",
       "      <th>2</th>\n",
       "      <td>Belgium</td>\n",
       "      <td>70.0</td>\n",
       "      <td>1800000.0</td>\n",
       "      <td>17.2</td>\n",
       "      <td>2</td>\n",
       "      <td>11128246.0</td>\n",
       "      <td>4.978842e+11</td>\n",
       "      <td>0.179723</td>\n",
       "      <td>0.000006</td>\n",
       "      <td>44740.583248</td>\n",
       "    </tr>\n",
       "    <tr>\n",
       "      <th>3</th>\n",
       "      <td>Canada</td>\n",
       "      <td>173.0</td>\n",
       "      <td>9950000.0</td>\n",
       "      <td>30.8</td>\n",
       "      <td>4</td>\n",
       "      <td>34750545.0</td>\n",
       "      <td>1.824289e+12</td>\n",
       "      <td>0.115106</td>\n",
       "      <td>0.000005</td>\n",
       "      <td>52496.694870</td>\n",
       "    </tr>\n",
       "    <tr>\n",
       "      <th>4</th>\n",
       "      <td>Denmark</td>\n",
       "      <td>15.0</td>\n",
       "      <td>650000.0</td>\n",
       "      <td>12.0</td>\n",
       "      <td>0</td>\n",
       "      <td>5591572.0</td>\n",
       "      <td>3.271489e+11</td>\n",
       "      <td>0.000000</td>\n",
       "      <td>0.000003</td>\n",
       "      <td>58507.500210</td>\n",
       "    </tr>\n",
       "  </tbody>\n",
       "</table>\n",
       "</div>"
      ],
      "text/plain": [
       "     Country  Number of homicides by firearm  \\\n",
       "0  Australia                            30.0   \n",
       "1    Austria                            18.0   \n",
       "2    Belgium                            70.0   \n",
       "3     Canada                           173.0   \n",
       "4    Denmark                            15.0   \n",
       "\n",
       "   Average total all civilian firearms  Guns per 100 inhabitants  \\\n",
       "0                            3050000.0                      15.0   \n",
       "1                            2500000.0                      30.4   \n",
       "2                            1800000.0                      17.2   \n",
       "3                            9950000.0                      30.8   \n",
       "4                             650000.0                      12.0   \n",
       "\n",
       "   Number of mass shootings         pop           gdp  shootingspp  \\\n",
       "0                         4  22742475.0  1.543411e+12     0.175882   \n",
       "1                         1   8429991.0  4.094252e+11     0.118624   \n",
       "2                         2  11128246.0  4.978842e+11     0.179723   \n",
       "3                         4  34750545.0  1.824289e+12     0.115106   \n",
       "4                         0   5591572.0  3.271489e+11     0.000000   \n",
       "\n",
       "   average_num_homicide_per  gdp_per_person  \n",
       "0                  0.000001    67864.689862  \n",
       "1                  0.000002    48567.695286  \n",
       "2                  0.000006    44740.583248  \n",
       "3                  0.000005    52496.694870  \n",
       "4                  0.000003    58507.500210  "
      ]
     },
     "execution_count": 103,
     "metadata": {},
     "output_type": "execute_result"
    }
   ],
   "source": [
    "df_.head()"
   ]
  },
  {
   "cell_type": "code",
   "execution_count": 191,
   "metadata": {},
   "outputs": [
    {
     "data": {
      "text/plain": [
       "array([ 0.13411029,  0.29656022,  0.16175056,  0.28632644,  0.11624638,\n",
       "        0.44329754,  0.28937041,  0.31084544,  0.22634654,  0.05644955,\n",
       "        0.28062211,  0.07826882,  0.11756858,  0.005563  ,  0.13184015,\n",
       "        0.20984097,  0.27896376,  0.01339878,  0.08559328,  0.09620924,\n",
       "        0.29413699,  0.42516682,  0.85989104])"
      ]
     },
     "execution_count": 191,
     "metadata": {},
     "output_type": "execute_result"
    }
   ],
   "source": [
    "np.array(x)"
   ]
  },
  {
   "cell_type": "code",
   "execution_count": 200,
   "metadata": {},
   "outputs": [
    {
     "data": {
      "text/plain": [
       "[238.44535537518865,\n",
       " 290.34446783088532,\n",
       " 235.88393332314942,\n",
       " 294.74796436956098,\n",
       " inf,\n",
       " 164.52919193869519,\n",
       " 330.80656230895221,\n",
       " 338.96022311938435,\n",
       " inf,\n",
       " inf,\n",
       " inf,\n",
       " inf,\n",
       " inf,\n",
       " inf,\n",
       " inf,\n",
       " 121.21743548956424,\n",
       " 224.02171769719115,\n",
       " inf,\n",
       " 324.26600191817829,\n",
       " 683.90829063552076,\n",
       " 218.16706900905095,\n",
       " 199.96075865029118,\n",
       " 200.63785209253936]"
      ]
     },
     "execution_count": 200,
     "metadata": {},
     "output_type": "execute_result"
    }
   ],
   "source": [
    "list(100/np.sqrt(y))"
   ]
  },
  {
   "cell_type": "code",
   "execution_count": 201,
   "metadata": {},
   "outputs": [
    {
     "data": {
      "text/plain": [
       "array([ 0.17588235,  0.11862409,  0.17972284,  0.11510611,  0.        ,\n",
       "        0.36941461,  0.09138013,  0.08703672,  0.        ,  0.        ,\n",
       "        0.        ,  0.        ,  0.        ,  0.        ,  0.        ,\n",
       "        0.68056532,  0.19925983,  0.        ,  0.09510365,  0.02137983,\n",
       "        0.21009785,  0.25009813,  0.24841297])"
      ]
     },
     "execution_count": 201,
     "metadata": {},
     "output_type": "execute_result"
    }
   ],
   "source": [
    "y"
   ]
  },
  {
   "cell_type": "code",
   "execution_count": 203,
   "metadata": {},
   "outputs": [
    {
     "data": {
      "text/plain": [
       "0      4\n",
       "1      1\n",
       "2      2\n",
       "3      4\n",
       "4      0\n",
       "5      2\n",
       "6      6\n",
       "7      7\n",
       "8      0\n",
       "9      0\n",
       "10     0\n",
       "11     0\n",
       "12     0\n",
       "13     0\n",
       "14     0\n",
       "15     3\n",
       "16     1\n",
       "17     0\n",
       "18     1\n",
       "19     1\n",
       "20     2\n",
       "21     2\n",
       "22    78\n",
       "Name: Number of mass shootings, dtype: int64"
      ]
     },
     "execution_count": 203,
     "metadata": {},
     "output_type": "execute_result"
    }
   ],
   "source": [
    "df_['Number of mass shootings']"
   ]
  },
  {
   "cell_type": "code",
   "execution_count": 214,
   "metadata": {
    "ExecuteTime": {
     "end_time": "2017-10-12T16:35:12.472517",
     "start_time": "2017-10-12T16:35:11.345016"
    },
    "run_control": {
     "frozen": false,
     "read_only": false
    }
   },
   "outputs": [],
   "source": [
    "df_['massive_shooting_per_person'] = df_['Number of mass shootings'] / df_['pop'] * 1e6\n",
    "df_['average_total_all_civilian_firearms_per_person'] = df_['Average total all civilian firearms'] / df_['pop']\n",
    "x = np.array(df_['average_total_all_civilian_firearms_per_person'])\n",
    "y = np.array(df_['massive_shooting_per_person'])\n",
    "X = sma.add_constant(x)\n",
    "mod_ols = smf.OLS(y,X).fit()\n",
    "mod_wls = smf.WLS(y,X,weights=list(1/np.sqrt(x))).fit()\n",
    "# print(mod_ols.summary())\n",
    "# print(mod_wls.summary())"
   ]
  },
  {
   "cell_type": "code",
   "execution_count": 215,
   "metadata": {},
   "outputs": [
    {
     "name": "stderr",
     "output_type": "stream",
     "text": [
      "/usr/local/Anaconda3-5.0.0-Linux-x86_64/envs/PUI2016_Python3/lib/python3.5/site-packages/matplotlib/font_manager.py:1316: UserWarning: findfont: Font family ['sans-serif'] not found. Falling back to DejaVu Sans\n",
      "  (prop.get_family(), self.defaultFamily[fontext]))\n"
     ]
    },
    {
     "data": {
      "text/plain": [
       "<matplotlib.legend.Legend at 0x7fc7008b4128>"
      ]
     },
     "execution_count": 215,
     "metadata": {},
     "output_type": "execute_result"
    },
    {
     "data": {
      "image/png": "[encoded data removed]",
      "text/plain": [
       "<matplotlib.figure.Figure at 0x7fc7009f0358>"
      ]
     },
     "metadata": {},
     "output_type": "display_data"
    }
   ],
   "source": [
    "fig = plt.figure(figsize=(10,10))\n",
    "fig.add_subplot(221)\n",
    "# plt.subplot(221)\n",
    "plt.scatter(df_['average_total_all_civilian_firearms_per_person'],df_['massive_shooting_per_person'],s=5)\n",
    "plt.xlabel('average total all civilian firearms per person')\n",
    "plt.ylabel('massive shooting per 1000 person')\n",
    "\n",
    "ax = fig.add_subplot(222)\n",
    "plt.plot(df_['average_total_all_civilian_firearms_per_person'],df_['massive_shooting_per_person'],'b.')\n",
    "abline_plot(model_results=mod_ols,label='ols fit',ax=ax,c='red')\n",
    "plt.xlabel('average total all civilian firearms per person')\n",
    "plt.ylabel('massive shooting per 1000 person')\n",
    "plt.legend(fontsize=12)\n",
    "\n",
    "ax = plt.subplot(223)\n",
    "abline_plot(ax=ax,model_results=mod_wls,label='wls fit',color='green')\n",
    "abline_plot(model_results=mod_ols,label='ols fit',ax=ax,c='red')\n",
    "\n",
    "plt.scatter(df_['average_total_all_civilian_firearms_per_person'],df_['massive_shooting_per_person'],s=5)\n",
    "\n",
    "plt.xlabel('average total all civilian firearms per person')\n",
    "\n",
    "plt.ylabel('massive shooting per 1000 person')\n",
    "plt.xlabel('average total all civilian firearms per person')\n",
    "plt.ylabel('massive shooting per 1000 person')\n",
    "plt.legend(fontsize=12)"
   ]
  },
  {
   "cell_type": "markdown",
   "metadata": {
    "run_control": {
     "frozen": false,
     "read_only": false
    }
   },
   "source": [
    "## Outlier removal:\n",
    "The concept of outlier is actually rather sophisticated: a point can be an outlier in a context but not in another. If you want to remove outliers and try different fits, here is some info on how to remove data efficiently from a dataset \n",
    "    https://gist.github.com/fedhere/89db40a3c9a28335bf5a35d52a52c595"
   ]
  },
  {
   "cell_type": "markdown",
   "metadata": {
    "ExecuteTime": {
     "end_time": "2017-10-12T16:21:08.019663",
     "start_time": "2017-10-12T16:21:08.010876"
    },
    "run_control": {
     "frozen": false,
     "read_only": false
    }
   },
   "source": [
    "## Extra credit: calculate the confidence interval by hand and also plot them \n",
    "you can use pylab.fill_between(x, yfit - ci, yfit + ci, alpha=0.5)"
   ]
  },
  {
   "cell_type": "markdown",
   "metadata": {
    "run_control": {
     "frozen": false,
     "read_only": false
    }
   },
   "source": [
    "**Confidence intervals: **\n",
    "there are three type of intervals in a linear regression, plot any one of them all three if you want - how do they compare to the seaborn plot?:\n",
    "\n",
    "1) Confidence intervals for the parameters slope and intercept\n",
    "\n",
    "2) Confidence interval for the average y value\n",
    "\n",
    "3) Prediction interval for a single y value"
   ]
  },
  {
   "cell_type": "markdown",
   "metadata": {
    "run_control": {
     "frozen": false,
     "read_only": false
    }
   },
   "source": [
    "1) __confidence interval of the  model parameters slope and intercept:__\n",
    "define sigma as the sum of the residuals over the square root of number n of observations. \n",
    "\n",
    "sigma: σ̂ =sqrt(Sum((Yoberved_i−Ypredicted_i)^2)/n)\n",
    "\n",
    "where the sum is over all observations\n",
    "\n",
    "Define t_alpha/2,n-2 the t statistics at (1-alpha/2) for a t distribution with n-2 degrees of freedom (you can calculate it with scipy\n",
    "tp = sp.stats.t.ppf(0.975, n-2)\n",
    "\n"
   ]
  },
  {
   "cell_type": "code",
   "execution_count": null,
   "metadata": {
    "ExecuteTime": {
     "end_time": "2017-10-12T15:42:26.836222",
     "start_time": "2017-10-12T15:42:26.819963"
    },
    "run_control": {
     "frozen": false,
     "read_only": false
    }
   },
   "outputs": [],
   "source": [
    "from IPython.display import Image\n",
    "Image(filename=\"../Lab5_fb55/confidence_intervals_regression.png\")"
   ]
  },
  {
   "cell_type": "code",
   "execution_count": null,
   "metadata": {
    "ExecuteTime": {
     "end_time": "2017-10-12T15:54:20.748008",
     "start_time": "2017-10-12T15:54:20.736381"
    },
    "run_control": {
     "frozen": false,
     "read_only": false
    }
   },
   "outputs": [],
   "source": [
    "from IPython.display import Image\n",
    "Image(filename=\"../Lab5_fb55/confidence_intervals_regression2.png\")"
   ]
  },
  {
   "cell_type": "markdown",
   "metadata": {
    "run_control": {
     "frozen": false,
     "read_only": false
    }
   },
   "source": [
    "[proof](https://onlinecourses.science.psu.edu/stat414/node/280)"
   ]
  },
  {
   "cell_type": "markdown",
   "metadata": {
    "run_control": {
     "frozen": false,
     "read_only": false
    }
   },
   "source": [
    "2) **A confidence interval for E(y | x) , the expected (average) value of y for a given x_**\n",
    "\n",
    "define s: residual standard error sy = sqrt(Sum((y_observed-y_predicted)^2)/(n-2))\n",
    "\n",
    "(note: n-2 is the degrees of freedom of the problem: observations - number of parameters - 1)\n",
    "\n",
    "the confidence interval for a given y(x*) is: \n",
    "\n",
    "y_predicted(x*) +/- t_(alpha/2)(n-2) * sy * sqrt( 1/n + (x* - mean(x)^2) / sum((x* - mean(x)^2)"
   ]
  },
  {
   "cell_type": "code",
   "execution_count": null,
   "metadata": {
    "ExecuteTime": {
     "end_time": "2017-10-12T16:09:14.173143",
     "start_time": "2017-10-12T16:09:14.161088"
    },
    "run_control": {
     "frozen": false,
     "read_only": false
    }
   },
   "outputs": [],
   "source": [
    "from IPython.display import Image\n",
    "Image(filename=\"../Lab5_fb55/ciY.png\")"
   ]
  },
  {
   "cell_type": "markdown",
   "metadata": {
    "run_control": {
     "frozen": false,
     "read_only": false
    }
   },
   "source": [
    "3) **Confidence intervals for average y (predicted) values**\n",
    "\n",
    "y_predicted(x*) +/- t_(n-2) * sy * sqrt( 1 + 1/n + (x* - mean(x)^2) / sum((x* - mean(x)^2)\n",
    "\n",
    "very similar, but note the +1 in the square root"
   ]
  },
  {
   "cell_type": "code",
   "execution_count": null,
   "metadata": {
    "ExecuteTime": {
     "end_time": "2017-10-12T16:08:46.077157",
     "start_time": "2017-10-12T16:08:46.067407"
    },
    "run_control": {
     "frozen": false,
     "read_only": false
    }
   },
   "outputs": [],
   "source": [
    "from IPython.display import Image\n",
    "Image(filename=\"../Lab5_fb55/ciYaverage.png\")"
   ]
  },
  {
   "cell_type": "code",
   "execution_count": null,
   "metadata": {
    "ExecuteTime": {
     "end_time": "2017-10-12T16:36:39.238967",
     "start_time": "2017-10-12T16:36:38.688004"
    },
    "run_control": {
     "frozen": false,
     "read_only": false
    }
   },
   "outputs": [],
   "source": [
    "pl.figure()\n",
    "import seaborn  as sns\n",
    "sns.regplot(x=\"x\", y=\"y\", data=df_);\n",
    "\n",
    "pl.ylabel(\"Mass shootings\")\n",
    "pl.xlabel(\"Fire arms\");"
   ]
  },
  {
   "cell_type": "markdown",
   "metadata": {
    "run_control": {
     "frozen": false,
     "read_only": false
    }
   },
   "source": [
    "## Use the stsatsmodels.gaphics package to plot the influence plot. \n",
    "Read the package documentation to learn how to read this plot and extract the countries with the highest influence\n",
    "\n",
    "This is the topic of this week's assigned reading, so make sure you do the reading before you do this step. It will help you interpret the plot."
   ]
  },
  {
   "cell_type": "code",
   "execution_count": null,
   "metadata": {
    "ExecuteTime": {
     "end_time": "2017-10-11T07:46:21.766085",
     "start_time": "2017-10-11T07:46:21.412498"
    },
    "run_control": {
     "frozen": false,
     "read_only": false
    }
   },
   "outputs": [],
   "source": [
    "sm.graphics.influence_plot(modelOLS, alpha  = 0.05, criterion=\"cooks\");"
   ]
  },
  {
   "cell_type": "markdown",
   "metadata": {
    "run_control": {
     "frozen": false,
     "read_only": false
    }
   },
   "source": [
    "## Extra credit: calculate from scratch the stanrdardized residuals and the H leverage for the WLS model and discuss if there are any differences"
   ]
  },
  {
   "cell_type": "markdown",
   "metadata": {
    "run_control": {
     "frozen": false,
     "read_only": false
    }
   },
   "source": [
    "## Discuss your findings"
   ]
  },
  {
   "cell_type": "code",
   "execution_count": null,
   "metadata": {},
   "outputs": [],
   "source": []
  }
 ],
 "metadata": {
  "anaconda-cloud": {},
  "kernelspec": {
   "display_name": "PUI2016_Python3",
   "language": "python",
   "name": "pui2016_python3"
  },
  "language_info": {
   "codemirror_mode": {
    "name": "ipython",
    "version": 3
   },
   "file_extension": ".py",
   "mimetype": "text/x-python",
   "name": "python",
   "nbconvert_exporter": "python",
   "pygments_lexer": "ipython3",
   "version": "3.5.4"
  },
  "latex_envs": {
   "LaTeX_envs_menu_present": true,
   "bibliofile": "biblio.bib",
   "cite_by": "apalike",
   "current_citInitial": 1,
   "eqLabelWithNumbers": true,
   "eqNumInitial": 1,
   "hotkeys": {
    "equation": "Ctrl-E",
    "itemize": "Ctrl-I"
   },
   "labels_anchors": false,
   "latex_user_defs": false,
   "report_style_numbering": false,
   "user_envs_cfg": false
  },
  "toc": {
   "colors": {
    "hover_highlight": "#DAA520",
    "running_highlight": "#FF0000",
    "selected_highlight": "#FFD700"
   },
   "moveMenuLeft": true,
   "nav_menu": {
    "height": "13px",
    "width": "251px"
   },
   "navigate_menu": true,
   "number_sections": true,
   "sideBar": true,
   "threshold": 4,
   "toc_cell": true,
   "toc_section_display": "block",
   "toc_window_display": true
  }
 },
 "nbformat": 4,
 "nbformat_minor": 1
}
