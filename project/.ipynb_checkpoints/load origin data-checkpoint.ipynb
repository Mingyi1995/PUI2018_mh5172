{
 "cells": [
  {
   "cell_type": "code",
   "execution_count": 1,
   "metadata": {},
   "outputs": [],
   "source": [
    "import requests\n",
    "import json\n",
    "import pandas as pd"
   ]
  },
  {
   "cell_type": "code",
   "execution_count": 2,
   "metadata": {},
   "outputs": [],
   "source": [
    "url = 'http://pulse.media.mit.edu/static/data/consolidated_data_jsonformatted.json'\n",
    "data = requests.get(url)\n",
    "text = json.loads(data.text)"
   ]
  },
  {
   "cell_type": "code",
   "execution_count": 3,
   "metadata": {},
   "outputs": [
    {
     "data": {
      "text/plain": [
       "4136"
      ]
     },
     "execution_count": 3,
     "metadata": {},
     "output_type": "execute_result"
    }
   ],
   "source": [
    "len(text)"
   ]
  },
  {
   "cell_type": "code",
   "execution_count": 5,
   "metadata": {},
   "outputs": [
    {
     "data": {
      "text/plain": [
       "{'QS Upperclass': '5.44',\n",
       " 'Error in QS Upperclass': '0.61',\n",
       " 'Lon': '-73.9249',\n",
       " 'File_Location': '/images/id_4026_400_300.jpg',\n",
       " 'Pitch': '5',\n",
       " 'Error in QS Unique': '0.8',\n",
       " 'Heading': '7',\n",
       " 'City': 'New York City',\n",
       " 'QS Unique': '3.79',\n",
       " 'QS Safer': '4.96',\n",
       " 'Lat': '40.8259',\n",
       " 'ID': '4026',\n",
       " 'Error in QS Safer': '0.58'}"
      ]
     },
     "execution_count": 5,
     "metadata": {},
     "output_type": "execute_result"
    }
   ],
   "source": [
    "text[2]"
   ]
  },
  {
   "cell_type": "code",
   "execution_count": 7,
   "metadata": {},
   "outputs": [],
   "source": [
    "lon = []\n",
    "safty = []\n",
    "lat = []\n",
    "for i in range(len(text)):\n",
    "    if text[i]['City'] == 'New York City':\n",
    "        lon.append(text[i]['Lon'])\n",
    "        lat.append(text[i]['Lat'])\n",
    "        safty.append(text[i]['QS Safer'])\n",
    "    else:\n",
    "        pass"
   ]
  },
  {
   "cell_type": "code",
   "execution_count": 11,
   "metadata": {},
   "outputs": [],
   "source": [
    "file = pd.DataFrame({'lat':lat, 'lon':lon, 'safety':safty})\n",
    "# file = pd.DataFrame({'Latitude':LAT,'Longitude':LNG,'Stop_Name':STOP_NAME,'Status':STATUS})\n",
    "file.to_csv('safety_socre.csv', sep=',')"
   ]
  },
  {
   "cell_type": "code",
   "execution_count": null,
   "metadata": {},
   "outputs": [],
   "source": []
  }
 ],
 "metadata": {
  "kernelspec": {
   "display_name": "Python 3",
   "language": "python",
   "name": "python3"
  },
  "language_info": {
   "codemirror_mode": {
    "name": "ipython",
    "version": 3
   },
   "file_extension": ".py",
   "mimetype": "text/x-python",
   "name": "python",
   "nbconvert_exporter": "python",
   "pygments_lexer": "ipython3",
   "version": "3.6.5"
  }
 },
 "nbformat": 4,
 "nbformat_minor": 2
}
