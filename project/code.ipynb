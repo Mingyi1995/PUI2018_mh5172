{
 "cells": [
  {
   "cell_type": "code",
   "execution_count": 120,
   "metadata": {},
   "outputs": [],
   "source": [
    "import pandas as pd\n",
    "import numpy as np\n",
    "from zipfile import ZipFile\n",
    "import geopandas as gpd\n",
    "import urllib\n",
    "import glob\n",
    "import matplotlib.pyplot as plt\n",
    "from fiona.crs import from_epsg\n",
    "from shapely.geometry import Point, LineString\n",
    "import scipy\n",
    "\n",
    "%matplotlib inline"
   ]
  },
  {
   "cell_type": "code",
   "execution_count": 2,
   "metadata": {},
   "outputs": [
    {
     "name": "stdout",
     "output_type": "stream",
     "text": [
      "mkdir: cannot create directory ‘download_data’: File exists\n",
      "--2018-12-10 12:21:53--  http://streetscore.media.mit.edu/static/files/streetscore_data.zip\n",
      "Resolving streetscore.media.mit.edu (streetscore.media.mit.edu)... 18.85.28.79\n",
      "Connecting to streetscore.media.mit.edu (streetscore.media.mit.edu)|18.85.28.79|:80... connected.\n",
      "HTTP request sent, awaiting response... 200 OK\n",
      "Length: 4754382 (4.5M) [application/zip]\n",
      "Saving to: ‘streetscore_data.zip’\n",
      "\n",
      "streetscore_data.zi 100%[===================>]   4.53M  11.4MB/s    in 0.4s    \n",
      "\n",
      "2018-12-10 12:21:53 (11.4 MB/s) - ‘streetscore_data.zip’ saved [4754382/4754382]\n",
      "\n"
     ]
    }
   ],
   "source": [
    "!mkdir download_data\n",
    "!wget http://streetscore.media.mit.edu/static/files/streetscore_data.zip -O streetscore_data.zip\n",
    "urllib.request.urlretrieve('https://data.cityofnewyork.us/api/geospatial/78dh-3ptz?method=export&format=Shapefile', 'download_data/precinct.zip')\n",
    "urllib.request.urlretrieve('http://www1.nyc.gov/assets/nypd/downloads/excel/analysis_and_planning/c-summonses/criminal-court-summons-2007-through-q1-2017.xlsx', 'download_data/crime.xlsx')\n",
    "!mv streetscore_data.zip download_data\n",
    "zf = ZipFile('download_data/streetscore_data.zip')\n",
    "zf2 = ZipFile('download_data/precinct.zip')\n",
    "zf.extractall('download_data/')\n",
    "zf2.extractall('download_data/')"
   ]
  },
  {
   "cell_type": "code",
   "execution_count": 253,
   "metadata": {},
   "outputs": [
    {
     "data": {
      "text/html": [
       "<div>\n",
       "<table border=\"1\" class=\"dataframe\">\n",
       "  <thead>\n",
       "    <tr style=\"text-align: right;\">\n",
       "      <th></th>\n",
       "      <th>latitude</th>\n",
       "      <th>longitude</th>\n",
       "      <th>q-score</th>\n",
       "    </tr>\n",
       "  </thead>\n",
       "  <tbody>\n",
       "    <tr>\n",
       "      <th>0</th>\n",
       "      <td>40.700909</td>\n",
       "      <td>-74.013504</td>\n",
       "      <td>11.062166</td>\n",
       "    </tr>\n",
       "    <tr>\n",
       "      <th>1</th>\n",
       "      <td>40.701000</td>\n",
       "      <td>-74.013878</td>\n",
       "      <td>10.818611</td>\n",
       "    </tr>\n",
       "    <tr>\n",
       "      <th>2</th>\n",
       "      <td>40.701080</td>\n",
       "      <td>-74.012878</td>\n",
       "      <td>12.677955</td>\n",
       "    </tr>\n",
       "    <tr>\n",
       "      <th>3</th>\n",
       "      <td>40.701187</td>\n",
       "      <td>-74.013268</td>\n",
       "      <td>11.417325</td>\n",
       "    </tr>\n",
       "    <tr>\n",
       "      <th>4</th>\n",
       "      <td>40.701244</td>\n",
       "      <td>-74.012115</td>\n",
       "      <td>25.199091</td>\n",
       "    </tr>\n",
       "  </tbody>\n",
       "</table>\n",
       "</div>"
      ],
      "text/plain": [
       "    latitude  longitude    q-score\n",
       "0  40.700909 -74.013504  11.062166\n",
       "1  40.701000 -74.013878  10.818611\n",
       "2  40.701080 -74.012878  12.677955\n",
       "3  40.701187 -74.013268  11.417325\n",
       "4  40.701244 -74.012115  25.199091"
      ]
     },
     "execution_count": 253,
     "metadata": {},
     "output_type": "execute_result"
    }
   ],
   "source": [
    "# ss refers to safety score\n",
    "ss = pd.read_csv('download_data/streetscore_dataset/streetscore_newyorkcity.csv')\n",
    "ss.head()"
   ]
  },
  {
   "cell_type": "code",
   "execution_count": 254,
   "metadata": {},
   "outputs": [],
   "source": [
    "geometry = [Point(xy) for xy in zip(ss.longitude, ss.latitude)]\n",
    "linkNYC = ss.drop(['longitude', 'latitude'], axis=1)\n",
    "crs = {'init': 'epsg:4326'}\n",
    "ssshp = gpd.GeoDataFrame(ss, crs=crs, geometry=geometry)"
   ]
  },
  {
   "cell_type": "code",
   "execution_count": 242,
   "metadata": {},
   "outputs": [],
   "source": [
    "#cs refers to crime statistics\n",
    "cs = pd.read_excel('download_data/crime.xlsx', skiprows=[0,1,2])"
   ]
  },
  {
   "cell_type": "code",
   "execution_count": 243,
   "metadata": {},
   "outputs": [],
   "source": [
    "cs['index'] = list(cs.index)\n",
    "precinct_name = cs['Precinct'].unique()"
   ]
  },
  {
   "cell_type": "code",
   "execution_count": 244,
   "metadata": {},
   "outputs": [
    {
     "data": {
      "text/plain": [
       "array(['CITYWIDE', nan, '001', '005', '006', '007', '009', '010', '013',\n",
       "       '014', '017', '018', '019', '020', '022', '023', '024', '025',\n",
       "       '026', '028', '030', '032', '033', '034', '040', '041', '042',\n",
       "       '043', '044', '045', '046', '047', '048', '049', '050', '052',\n",
       "       '060', '061', '062', '063', '066', '067', '068', '069', '070',\n",
       "       '071', '072', '073', '075', '076', '077', '078', '079', '081',\n",
       "       '083', '084', '088', '090', '094', '100', '101', '102', '103',\n",
       "       '104', '105', '106', '107', '108', '109', '110', '111', '112',\n",
       "       '113', '114', '115', '120', '121', '122', '123', 'Citywide Total'], dtype=object)"
      ]
     },
     "execution_count": 244,
     "metadata": {},
     "output_type": "execute_result"
    }
   ],
   "source": [
    "precinct_name"
   ]
  },
  {
   "cell_type": "code",
   "execution_count": 245,
   "metadata": {},
   "outputs": [],
   "source": [
    "\n",
    "def write_precinct(x):\n",
    "    if x['index'] < 249:\n",
    "        return precinct_name[0]\n",
    "    elif (x['index'] % 249 == 0) and (x['index'] != 0):\n",
    "        return 'total %s'%precinct_name[int(x['index'] / 250)]\n",
    "    else:\n",
    "        return precinct_name[int(x['index'] / 250) + 1] \n",
    "\n",
    "def rename_precinct(x):\n",
    "    if x['Precinct'][1] == '0':\n",
    "        return x['Precinct'][2]\n",
    "    else:\n",
    "        if x['Precinct'][0] == 0:\n",
    "            return x['Precinct'][1:]\n",
    "        else:\n",
    "            return x['Precinct']\n",
    "cs['Precinct'] = cs.apply(write_precinct, axis=1)\n",
    "cs['precinct'] = cs.apply(rename_precinct, axis=1)\n",
    "\n",
    "del cs['precinct']"
   ]
  },
  {
   "cell_type": "code",
   "execution_count": 246,
   "metadata": {},
   "outputs": [
    {
     "data": {
      "text/html": [
       "<div>\n",
       "<table border=\"1\" class=\"dataframe\">\n",
       "  <thead>\n",
       "    <tr style=\"text-align: right;\">\n",
       "      <th></th>\n",
       "      <th>Precinct</th>\n",
       "      <th>Violation</th>\n",
       "      <th>Law</th>\n",
       "      <th>CY2007</th>\n",
       "      <th>CY2008</th>\n",
       "      <th>CY2009</th>\n",
       "      <th>CY2010</th>\n",
       "      <th>CY2011</th>\n",
       "      <th>CY2012</th>\n",
       "      <th>CY2013</th>\n",
       "      <th>CY2014</th>\n",
       "      <th>CY2015</th>\n",
       "      <th>CY2016</th>\n",
       "      <th>2017 YTD 03-31</th>\n",
       "      <th>index</th>\n",
       "    </tr>\n",
       "  </thead>\n",
       "  <tbody>\n",
       "    <tr>\n",
       "      <th>19496</th>\n",
       "      <td>123</td>\n",
       "      <td>VIOLATE RESTRICTED USE LICENSE</td>\n",
       "      <td>VTL</td>\n",
       "      <td>0</td>\n",
       "      <td>0</td>\n",
       "      <td>0</td>\n",
       "      <td>0</td>\n",
       "      <td>0</td>\n",
       "      <td>1</td>\n",
       "      <td>0</td>\n",
       "      <td>0</td>\n",
       "      <td>0</td>\n",
       "      <td>0</td>\n",
       "      <td>0</td>\n",
       "      <td>19496</td>\n",
       "    </tr>\n",
       "    <tr>\n",
       "      <th>19497</th>\n",
       "      <td>123</td>\n",
       "      <td>WINDSHIELD WASHERS</td>\n",
       "      <td>Traffic Regs</td>\n",
       "      <td>0</td>\n",
       "      <td>0</td>\n",
       "      <td>0</td>\n",
       "      <td>0</td>\n",
       "      <td>0</td>\n",
       "      <td>0</td>\n",
       "      <td>0</td>\n",
       "      <td>0</td>\n",
       "      <td>0</td>\n",
       "      <td>0</td>\n",
       "      <td>0</td>\n",
       "      <td>19497</td>\n",
       "    </tr>\n",
       "    <tr>\n",
       "      <th>19498</th>\n",
       "      <td>123</td>\n",
       "      <td>WRONG WAY</td>\n",
       "      <td>Traffic Regs</td>\n",
       "      <td>0</td>\n",
       "      <td>0</td>\n",
       "      <td>0</td>\n",
       "      <td>0</td>\n",
       "      <td>0</td>\n",
       "      <td>0</td>\n",
       "      <td>0</td>\n",
       "      <td>0</td>\n",
       "      <td>0</td>\n",
       "      <td>0</td>\n",
       "      <td>0</td>\n",
       "      <td>19498</td>\n",
       "    </tr>\n",
       "    <tr>\n",
       "      <th>19499</th>\n",
       "      <td>123</td>\n",
       "      <td>Total(Violation)</td>\n",
       "      <td>NaN</td>\n",
       "      <td>1459</td>\n",
       "      <td>1427</td>\n",
       "      <td>1244</td>\n",
       "      <td>1566</td>\n",
       "      <td>2160</td>\n",
       "      <td>1921</td>\n",
       "      <td>1424</td>\n",
       "      <td>1690</td>\n",
       "      <td>911</td>\n",
       "      <td>1337</td>\n",
       "      <td>166</td>\n",
       "      <td>19499</td>\n",
       "    </tr>\n",
       "    <tr>\n",
       "      <th>19500</th>\n",
       "      <td>Citywide Total</td>\n",
       "      <td>NaN</td>\n",
       "      <td>NaN</td>\n",
       "      <td>539800</td>\n",
       "      <td>510962</td>\n",
       "      <td>544678</td>\n",
       "      <td>536021</td>\n",
       "      <td>490604</td>\n",
       "      <td>476801</td>\n",
       "      <td>424883</td>\n",
       "      <td>359537</td>\n",
       "      <td>297413</td>\n",
       "      <td>267763</td>\n",
       "      <td>52310</td>\n",
       "      <td>19500</td>\n",
       "    </tr>\n",
       "  </tbody>\n",
       "</table>\n",
       "</div>"
      ],
      "text/plain": [
       "             Precinct                       Violation           Law  CY2007  \\\n",
       "19496             123  VIOLATE RESTRICTED USE LICENSE           VTL       0   \n",
       "19497             123              WINDSHIELD WASHERS  Traffic Regs       0   \n",
       "19498             123                       WRONG WAY  Traffic Regs       0   \n",
       "19499             123                Total(Violation)           NaN    1459   \n",
       "19500  Citywide Total                             NaN           NaN  539800   \n",
       "\n",
       "       CY2008  CY2009  CY2010  CY2011  CY2012  CY2013  CY2014  CY2015  CY2016  \\\n",
       "19496       0       0       0       0       1       0       0       0       0   \n",
       "19497       0       0       0       0       0       0       0       0       0   \n",
       "19498       0       0       0       0       0       0       0       0       0   \n",
       "19499    1427    1244    1566    2160    1921    1424    1690     911    1337   \n",
       "19500  510962  544678  536021  490604  476801  424883  359537  297413  267763   \n",
       "\n",
       "       2017 YTD 03-31  index  \n",
       "19496               0  19496  \n",
       "19497               0  19497  \n",
       "19498               0  19498  \n",
       "19499             166  19499  \n",
       "19500           52310  19500  "
      ]
     },
     "execution_count": 246,
     "metadata": {},
     "output_type": "execute_result"
    }
   ],
   "source": [
    "cs.tail()"
   ]
  },
  {
   "cell_type": "code",
   "execution_count": 247,
   "metadata": {},
   "outputs": [
    {
     "data": {
      "text/html": [
       "<div>\n",
       "<table border=\"1\" class=\"dataframe\">\n",
       "  <thead>\n",
       "    <tr style=\"text-align: right;\">\n",
       "      <th></th>\n",
       "      <th>precinct</th>\n",
       "      <th>shape_area</th>\n",
       "      <th>shape_leng</th>\n",
       "      <th>geometry</th>\n",
       "    </tr>\n",
       "  </thead>\n",
       "  <tbody>\n",
       "    <tr>\n",
       "      <th>0</th>\n",
       "      <td>1</td>\n",
       "      <td>4.730176e+07</td>\n",
       "      <td>80586.154615</td>\n",
       "      <td>(POLYGON ((-74.0438776157395 40.69018767637665...</td>\n",
       "    </tr>\n",
       "    <tr>\n",
       "      <th>1</th>\n",
       "      <td>5</td>\n",
       "      <td>1.808880e+07</td>\n",
       "      <td>18676.124259</td>\n",
       "      <td>POLYGON ((-73.98863862848766 40.72293372026369...</td>\n",
       "    </tr>\n",
       "    <tr>\n",
       "      <th>2</th>\n",
       "      <td>6</td>\n",
       "      <td>2.213214e+07</td>\n",
       "      <td>27175.185625</td>\n",
       "      <td>POLYGON ((-73.99968392160721 40.73855224865976...</td>\n",
       "    </tr>\n",
       "    <tr>\n",
       "      <th>3</th>\n",
       "      <td>71</td>\n",
       "      <td>4.533179e+07</td>\n",
       "      <td>29978.094261</td>\n",
       "      <td>POLYGON ((-73.92854313809303 40.66457328584737...</td>\n",
       "    </tr>\n",
       "    <tr>\n",
       "      <th>4</th>\n",
       "      <td>72</td>\n",
       "      <td>1.046213e+08</td>\n",
       "      <td>87968.194520</td>\n",
       "      <td>POLYGON ((-73.99840899113158 40.67186872303234...</td>\n",
       "    </tr>\n",
       "  </tbody>\n",
       "</table>\n",
       "</div>"
      ],
      "text/plain": [
       "   precinct    shape_area    shape_leng  \\\n",
       "0         1  4.730176e+07  80586.154615   \n",
       "1         5  1.808880e+07  18676.124259   \n",
       "2         6  2.213214e+07  27175.185625   \n",
       "3        71  4.533179e+07  29978.094261   \n",
       "4        72  1.046213e+08  87968.194520   \n",
       "\n",
       "                                            geometry  \n",
       "0  (POLYGON ((-74.0438776157395 40.69018767637665...  \n",
       "1  POLYGON ((-73.98863862848766 40.72293372026369...  \n",
       "2  POLYGON ((-73.99968392160721 40.73855224865976...  \n",
       "3  POLYGON ((-73.92854313809303 40.66457328584737...  \n",
       "4  POLYGON ((-73.99840899113158 40.67186872303234...  "
      ]
     },
     "execution_count": 247,
     "metadata": {},
     "output_type": "execute_result"
    }
   ],
   "source": [
    "# pp refers to police precinct\n",
    "ppshp = gpd.read_file(glob.glob('download_data/*.shp')[0])\n",
    "ppshp['precinct'] = ppshp['precinct'].astype('int')\n",
    "ppshp.head()"
   ]
  },
  {
   "cell_type": "code",
   "execution_count": 248,
   "metadata": {},
   "outputs": [
    {
     "data": {
      "text/html": [
       "<div>\n",
       "<table border=\"1\" class=\"dataframe\">\n",
       "  <thead>\n",
       "    <tr style=\"text-align: right;\">\n",
       "      <th></th>\n",
       "      <th>q-score</th>\n",
       "      <th>geometry</th>\n",
       "      <th>precinct</th>\n",
       "    </tr>\n",
       "  </thead>\n",
       "  <tbody>\n",
       "    <tr>\n",
       "      <th>0</th>\n",
       "      <td>11.062166</td>\n",
       "      <td>POINT (-74.013504 40.700909)</td>\n",
       "      <td>1</td>\n",
       "    </tr>\n",
       "    <tr>\n",
       "      <th>1</th>\n",
       "      <td>10.818611</td>\n",
       "      <td>POINT (-74.01387800000001 40.701)</td>\n",
       "      <td>1</td>\n",
       "    </tr>\n",
       "    <tr>\n",
       "      <th>2</th>\n",
       "      <td>12.677955</td>\n",
       "      <td>POINT (-74.012878 40.70108)</td>\n",
       "      <td>1</td>\n",
       "    </tr>\n",
       "    <tr>\n",
       "      <th>3</th>\n",
       "      <td>11.417325</td>\n",
       "      <td>POINT (-74.01326800000001 40.701187)</td>\n",
       "      <td>1</td>\n",
       "    </tr>\n",
       "    <tr>\n",
       "      <th>4</th>\n",
       "      <td>25.199091</td>\n",
       "      <td>POINT (-74.01211500000001 40.701244)</td>\n",
       "      <td>1</td>\n",
       "    </tr>\n",
       "  </tbody>\n",
       "</table>\n",
       "</div>"
      ],
      "text/plain": [
       "     q-score                              geometry  precinct\n",
       "0  11.062166          POINT (-74.013504 40.700909)         1\n",
       "1  10.818611     POINT (-74.01387800000001 40.701)         1\n",
       "2  12.677955           POINT (-74.012878 40.70108)         1\n",
       "3  11.417325  POINT (-74.01326800000001 40.701187)         1\n",
       "4  25.199091  POINT (-74.01211500000001 40.701244)         1"
      ]
     },
     "execution_count": 248,
     "metadata": {},
     "output_type": "execute_result"
    }
   ],
   "source": [
    "ssshp.head()"
   ]
  },
  {
   "cell_type": "code",
   "execution_count": 255,
   "metadata": {},
   "outputs": [],
   "source": [
    "# as the safety score was collected in 2011, so first explore the crime statistics in 2011\n",
    "cs_11 = cs[['Precinct', 'Violation', 'CY2011']]\n",
    "\n",
    "#put street score and police precinct together\n",
    "\n",
    "ssshp = gpd.sjoin(ssshp, ppshp, how='left', op='intersects')"
   ]
  },
  {
   "cell_type": "code",
   "execution_count": 257,
   "metadata": {},
   "outputs": [
    {
     "data": {
      "text/html": [
       "<div>\n",
       "<table border=\"1\" class=\"dataframe\">\n",
       "  <thead>\n",
       "    <tr style=\"text-align: right;\">\n",
       "      <th></th>\n",
       "      <th>q-score</th>\n",
       "      <th>geometry</th>\n",
       "      <th>precinct</th>\n",
       "    </tr>\n",
       "  </thead>\n",
       "  <tbody>\n",
       "    <tr>\n",
       "      <th>0</th>\n",
       "      <td>11.062166</td>\n",
       "      <td>POINT (-74.013504 40.700909)</td>\n",
       "      <td>1</td>\n",
       "    </tr>\n",
       "    <tr>\n",
       "      <th>1</th>\n",
       "      <td>10.818611</td>\n",
       "      <td>POINT (-74.01387800000001 40.701)</td>\n",
       "      <td>1</td>\n",
       "    </tr>\n",
       "    <tr>\n",
       "      <th>2</th>\n",
       "      <td>12.677955</td>\n",
       "      <td>POINT (-74.012878 40.70108)</td>\n",
       "      <td>1</td>\n",
       "    </tr>\n",
       "    <tr>\n",
       "      <th>3</th>\n",
       "      <td>11.417325</td>\n",
       "      <td>POINT (-74.01326800000001 40.701187)</td>\n",
       "      <td>1</td>\n",
       "    </tr>\n",
       "    <tr>\n",
       "      <th>4</th>\n",
       "      <td>25.199091</td>\n",
       "      <td>POINT (-74.01211500000001 40.701244)</td>\n",
       "      <td>1</td>\n",
       "    </tr>\n",
       "  </tbody>\n",
       "</table>\n",
       "</div>"
      ],
      "text/plain": [
       "     q-score                              geometry  precinct\n",
       "0  11.062166          POINT (-74.013504 40.700909)         1\n",
       "1  10.818611     POINT (-74.01387800000001 40.701)         1\n",
       "2  12.677955           POINT (-74.012878 40.70108)         1\n",
       "3  11.417325  POINT (-74.01326800000001 40.701187)         1\n",
       "4  25.199091  POINT (-74.01211500000001 40.701244)         1"
      ]
     },
     "execution_count": 257,
     "metadata": {},
     "output_type": "execute_result"
    }
   ],
   "source": [
    "ssshp = ssshp.dropna()\n",
    "ssshp['precinct'] = ssshp['precinct'].astype('int')\n",
    "ssshp = ssshp[['q-score', 'geometry', 'precinct']]\n",
    "ssshp.head()"
   ]
  },
  {
   "cell_type": "code",
   "execution_count": 258,
   "metadata": {},
   "outputs": [
    {
     "data": {
      "text/plain": [
       "array([  1,   5,   7,   9,   6,  13,  10,  17,  14,  18, 114,  19,  22,\n",
       "        20,  25,  23,  24,  28,  40,  26,  41,  43,  32,  45,  30,  44,\n",
       "        42,  33,  48,  49,  52,  46,  34,  47,  50,  60,  61,  63,  62,\n",
       "        68,  66,  70,  69,  67,  72,  75, 106,  78,  73,  71,  77,  76,\n",
       "        81,  79,  88,  84, 123, 122, 121, 120, 113, 102,  83, 104, 103,\n",
       "        90, 107, 112,  94, 108, 110, 109, 115, 100, 101, 105, 111])"
      ]
     },
     "execution_count": 258,
     "metadata": {},
     "output_type": "execute_result"
    }
   ],
   "source": [
    "ssshp['precinct'].unique()"
   ]
  },
  {
   "cell_type": "code",
   "execution_count": 259,
   "metadata": {},
   "outputs": [],
   "source": [
    "for i in ssshp['precinct'].unique():\n",
    "    \n",
    "    locals()['precinct_'+str(i)] = ssshp[ssshp['precinct'] == i ]"
   ]
  },
  {
   "cell_type": "code",
   "execution_count": 260,
   "metadata": {},
   "outputs": [
    {
     "data": {
      "text/plain": [
       "21.868757000000002"
      ]
     },
     "execution_count": 260,
     "metadata": {},
     "output_type": "execute_result"
    }
   ],
   "source": [
    "# determine the threshold of \"unsafety\"\n",
    "score = np.array(ssshp['q-score'])\n",
    "score.sort()\n",
    "threshold = score[int(len(score) / 4)]\n",
    "threshold"
   ]
  },
  {
   "cell_type": "code",
   "execution_count": 268,
   "metadata": {},
   "outputs": [
    {
     "data": {
      "text/plain": [
       "array(['CITYWIDE', 'total CITYWIDE', '001', 'total nan', '005',\n",
       "       'total 001', '006', 'total 005', '007', 'total 006', '009',\n",
       "       'total 007', '010', 'total 009', '013', 'total 010', '014',\n",
       "       'total 013', '017', 'total 014', '018', 'total 017', '019',\n",
       "       'total 018', '020', 'total 019', '022', 'total 020', '023',\n",
       "       'total 022', '024', 'total 023', '025', 'total 024', '026',\n",
       "       'total 025', '028', 'total 026', '030', 'total 028', '032',\n",
       "       'total 030', '033', 'total 032', '034', 'total 033', '040',\n",
       "       'total 034', '041', 'total 040', '042', 'total 041', '043',\n",
       "       'total 042', '044', 'total 043', '045', 'total 044', '046',\n",
       "       'total 045', '047', 'total 046', '048', 'total 047', '049',\n",
       "       'total 048', '050', 'total 049', '052', 'total 050', '060',\n",
       "       'total 052', '061', 'total 060', '062', 'total 061', '063',\n",
       "       'total 062', '066', 'total 063', '067', 'total 066', '068',\n",
       "       'total 067', '069', 'total 068', '070', 'total 069', '071',\n",
       "       'total 070', '072', 'total 071', '073', 'total 072', '075',\n",
       "       'total 073', '076', 'total 075', '077', 'total 076', '078',\n",
       "       'total 077', '079', 'total 078', '081', 'total 079', '083',\n",
       "       'total 081', '084', 'total 083', '088', 'total 084', '090',\n",
       "       'total 088', '094', 'total 090', '100', 'total 094', '101',\n",
       "       'total 100', '102', 'total 101', '103', 'total 102', '104',\n",
       "       'total 103', '105', 'total 104', '106', 'total 105', '107',\n",
       "       'total 106', '108', 'total 107', '109', 'total 108', '110',\n",
       "       'total 109', '111', 'total 110', '112', 'total 111', '113',\n",
       "       'total 112', '114', 'total 113', '115', 'total 114', '120',\n",
       "       'total 115', '121', 'total 120', '122', 'total 121', '123',\n",
       "       'total 122', 'Citywide Total'], dtype=object)"
      ]
     },
     "execution_count": 268,
     "metadata": {},
     "output_type": "execute_result"
    }
   ],
   "source": [
    "cs.Precinct.unique()"
   ]
  },
  {
   "cell_type": "code",
   "execution_count": 261,
   "metadata": {},
   "outputs": [
    {
     "name": "stderr",
     "output_type": "stream",
     "text": [
      "/usr/local/Anaconda3-5.0.0-Linux-x86_64/envs/PUI2016_Python3/lib/python3.5/site-packages/ipykernel/__main__.py:1: SettingWithCopyWarning: \n",
      "A value is trying to be set on a copy of a slice from a DataFrame.\n",
      "Try using .loc[row_indexer,col_indexer] = value instead\n",
      "\n",
      "See the caveats in the documentation: http://pandas.pydata.org/pandas-docs/stable/indexing.html#indexing-view-versus-copy\n",
      "  if __name__ == '__main__':\n"
     ]
    }
   ],
   "source": [
    "cs_11['index'] = cs_11.index.astype('int')"
   ]
  },
  {
   "cell_type": "code",
   "execution_count": 263,
   "metadata": {},
   "outputs": [
    {
     "data": {
      "text/html": [
       "<div>\n",
       "<table border=\"1\" class=\"dataframe\">\n",
       "  <thead>\n",
       "    <tr style=\"text-align: right;\">\n",
       "      <th></th>\n",
       "      <th>Precinct</th>\n",
       "      <th>Violation</th>\n",
       "      <th>CY2011</th>\n",
       "      <th>index</th>\n",
       "      <th>drop</th>\n",
       "    </tr>\n",
       "  </thead>\n",
       "  <tbody>\n",
       "    <tr>\n",
       "      <th>0</th>\n",
       "      <td>CITYWIDE</td>\n",
       "      <td>ACCEPT ON HAIL</td>\n",
       "      <td>4223</td>\n",
       "      <td>0</td>\n",
       "      <td>1</td>\n",
       "    </tr>\n",
       "    <tr>\n",
       "      <th>1</th>\n",
       "      <td>CITYWIDE</td>\n",
       "      <td>AFTER HOURS CONSUMPTION</td>\n",
       "      <td>370</td>\n",
       "      <td>1</td>\n",
       "      <td>0</td>\n",
       "    </tr>\n",
       "    <tr>\n",
       "      <th>2</th>\n",
       "      <td>CITYWIDE</td>\n",
       "      <td>AGGRAVATED UNLICENSED OPERATOR</td>\n",
       "      <td>549</td>\n",
       "      <td>2</td>\n",
       "      <td>0</td>\n",
       "    </tr>\n",
       "    <tr>\n",
       "      <th>3</th>\n",
       "      <td>CITYWIDE</td>\n",
       "      <td>ANGLE PARKING</td>\n",
       "      <td>0</td>\n",
       "      <td>3</td>\n",
       "      <td>0</td>\n",
       "    </tr>\n",
       "    <tr>\n",
       "      <th>4</th>\n",
       "      <td>CITYWIDE</td>\n",
       "      <td>BARE HAND CONTACT (FOOD)</td>\n",
       "      <td>254</td>\n",
       "      <td>4</td>\n",
       "      <td>0</td>\n",
       "    </tr>\n",
       "  </tbody>\n",
       "</table>\n",
       "</div>"
      ],
      "text/plain": [
       "   Precinct                       Violation  CY2011  index  drop\n",
       "0  CITYWIDE                  ACCEPT ON HAIL    4223      0     1\n",
       "1  CITYWIDE         AFTER HOURS CONSUMPTION     370      1     0\n",
       "2  CITYWIDE  AGGRAVATED UNLICENSED OPERATOR     549      2     0\n",
       "3  CITYWIDE                   ANGLE PARKING       0      3     0\n",
       "4  CITYWIDE        BARE HAND CONTACT (FOOD)     254      4     0"
      ]
     },
     "execution_count": 263,
     "metadata": {},
     "output_type": "execute_result"
    }
   ],
   "source": [
    "cs_11.head()"
   ]
  },
  {
   "cell_type": "code",
   "execution_count": 265,
   "metadata": {},
   "outputs": [
    {
     "name": "stderr",
     "output_type": "stream",
     "text": [
      "/usr/local/Anaconda3-5.0.0-Linux-x86_64/envs/PUI2016_Python3/lib/python3.5/site-packages/ipykernel/__main__.py:7: SettingWithCopyWarning: \n",
      "A value is trying to be set on a copy of a slice from a DataFrame.\n",
      "Try using .loc[row_indexer,col_indexer] = value instead\n",
      "\n",
      "See the caveats in the documentation: http://pandas.pydata.org/pandas-docs/stable/indexing.html#indexing-view-versus-copy\n"
     ]
    }
   ],
   "source": [
    "# mark the total crime statistics, then drop them\n",
    "def delete_total(x):\n",
    "    if int(x['index']) % 249 == 0:\n",
    "        return 1\n",
    "    else:\n",
    "        return 0\n",
    "cs_11['drop'] = cs_11.apply(delete_total, axis=1)   \n",
    "cs_11 = cs_11[(cs_11['drop'] == 0) & (cs_11['Precinct'] != 'Citywide Total') & (cs_11['Precinct'] != 'CITYWIDE')]"
   ]
  },
  {
   "cell_type": "code",
   "execution_count": 211,
   "metadata": {},
   "outputs": [
    {
     "data": {
      "text/plain": [
       "array([  1,   5,   7,   9,   6,  13,  10,  17,  14,  18, 114,  19,  22,\n",
       "        20,  25,  23,  24,  28,  40,  26,  41,  43,  32,  45,  30,  44,\n",
       "        42,  33,  48,  49,  52,  46,  34,  47,  50,  60,  61,  63,  62,\n",
       "        68,  66,  70,  69,  67,  72,  75, 106,  78,  73,  71,  77,  76,\n",
       "        81,  79,  88,  84, 123, 122, 121, 120, 113, 102,  83, 104, 103,\n",
       "        90, 107, 112,  94, 108, 110, 109, 115, 100, 101, 105, 111])"
      ]
     },
     "execution_count": 211,
     "metadata": {},
     "output_type": "execute_result"
    }
   ],
   "source": [
    "ssshp['precinct'].unique()"
   ]
  },
  {
   "cell_type": "code",
   "execution_count": 266,
   "metadata": {},
   "outputs": [
    {
     "data": {
      "text/html": [
       "<div>\n",
       "<table border=\"1\" class=\"dataframe\">\n",
       "  <thead>\n",
       "    <tr style=\"text-align: right;\">\n",
       "      <th></th>\n",
       "      <th>Precinct</th>\n",
       "      <th>Violation</th>\n",
       "      <th>CY2011</th>\n",
       "      <th>index</th>\n",
       "      <th>drop</th>\n",
       "    </tr>\n",
       "  </thead>\n",
       "  <tbody>\n",
       "    <tr>\n",
       "      <th>250</th>\n",
       "      <td>001</td>\n",
       "      <td>ACCEPT ON HAIL</td>\n",
       "      <td>57</td>\n",
       "      <td>250</td>\n",
       "      <td>0</td>\n",
       "    </tr>\n",
       "    <tr>\n",
       "      <th>251</th>\n",
       "      <td>001</td>\n",
       "      <td>AFTER HOURS CONSUMPTION</td>\n",
       "      <td>2</td>\n",
       "      <td>251</td>\n",
       "      <td>0</td>\n",
       "    </tr>\n",
       "    <tr>\n",
       "      <th>252</th>\n",
       "      <td>001</td>\n",
       "      <td>AGGRAVATED UNLICENSED OPERATOR</td>\n",
       "      <td>0</td>\n",
       "      <td>252</td>\n",
       "      <td>0</td>\n",
       "    </tr>\n",
       "    <tr>\n",
       "      <th>253</th>\n",
       "      <td>001</td>\n",
       "      <td>ANGLE PARKING</td>\n",
       "      <td>0</td>\n",
       "      <td>253</td>\n",
       "      <td>0</td>\n",
       "    </tr>\n",
       "    <tr>\n",
       "      <th>254</th>\n",
       "      <td>001</td>\n",
       "      <td>BARE HAND CONTACT (FOOD)</td>\n",
       "      <td>0</td>\n",
       "      <td>254</td>\n",
       "      <td>0</td>\n",
       "    </tr>\n",
       "  </tbody>\n",
       "</table>\n",
       "</div>"
      ],
      "text/plain": [
       "    Precinct                       Violation  CY2011  index  drop\n",
       "250      001                  ACCEPT ON HAIL      57    250     0\n",
       "251      001         AFTER HOURS CONSUMPTION       2    251     0\n",
       "252      001  AGGRAVATED UNLICENSED OPERATOR       0    252     0\n",
       "253      001                   ANGLE PARKING       0    253     0\n",
       "254      001        BARE HAND CONTACT (FOOD)       0    254     0"
      ]
     },
     "execution_count": 266,
     "metadata": {},
     "output_type": "execute_result"
    }
   ],
   "source": [
    "cs_11.head()"
   ]
  },
  {
   "cell_type": "code",
   "execution_count": 213,
   "metadata": {},
   "outputs": [
    {
     "data": {
      "text/plain": [
       "0"
      ]
     },
     "execution_count": 213,
     "metadata": {},
     "output_type": "execute_result"
    }
   ],
   "source": [
    "len(cs_11[cs_11['precinct'] == 1])"
   ]
  },
  {
   "cell_type": "code",
   "execution_count": 208,
   "metadata": {},
   "outputs": [
    {
     "data": {
      "text/plain": [
       "(19421,)"
      ]
     },
     "execution_count": 208,
     "metadata": {},
     "output_type": "execute_result"
    }
   ],
   "source": [
    "cs_11['CY2011'].values.shape"
   ]
  },
  {
   "cell_type": "code",
   "execution_count": 209,
   "metadata": {},
   "outputs": [
    {
     "data": {
      "text/plain": [
       "78.31048387096774"
      ]
     },
     "execution_count": 209,
     "metadata": {},
     "output_type": "execute_result"
    }
   ],
   "source": [
    "19421 / 248"
   ]
  },
  {
   "cell_type": "code",
   "execution_count": null,
   "metadata": {},
   "outputs": [],
   "source": []
  }
 ],
 "metadata": {
  "kernelspec": {
   "display_name": "PUI2016_Python3",
   "language": "python",
   "name": "pui2016_python3"
  },
  "language_info": {
   "codemirror_mode": {
    "name": "ipython",
    "version": 3
   },
   "file_extension": ".py",
   "mimetype": "text/x-python",
   "name": "python",
   "nbconvert_exporter": "python",
   "pygments_lexer": "ipython3",
   "version": "3.5.4"
  }
 },
 "nbformat": 4,
 "nbformat_minor": 2
}
