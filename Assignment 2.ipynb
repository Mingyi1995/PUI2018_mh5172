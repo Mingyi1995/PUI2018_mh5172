{
 "cells": [
  {
   "cell_type": "code",
   "execution_count": 4,
   "metadata": {},
   "outputs": [
    {
     "name": "stdout",
     "output_type": "stream",
     "text": [
      "PUIdata /Users/hemingyi/PUIdata\n"
     ]
    }
   ],
   "source": [
    "import os\n",
    "print(\"PUIdata\", os.getenv(\"PUIDATA\"))"
   ]
  },
  {
   "cell_type": "code",
   "execution_count": 5,
   "metadata": {},
   "outputs": [
    {
     "name": "stdout",
     "output_type": "stream",
     "text": [
      "PUIdata /Users/hemingyi/PUIdata\n"
     ]
    }
   ],
   "source": [
    "os.environ[\"PUIDATA\"] = \"%s/PUIdata\"%os.getenv(\"HOME\")\n",
    "\n",
    "print(\"PUIdata\", os.getenv(\"PUIDATA\"))"
   ]
  },
  {
   "cell_type": "code",
   "execution_count": 13,
   "metadata": {},
   "outputs": [
    {
     "name": "stdout",
     "output_type": "stream",
     "text": [
      "sqf-2017.csv\r\n"
     ]
    }
   ],
   "source": [
    "!ls $PUIDATA"
   ]
  },
  {
   "cell_type": "code",
   "execution_count": 23,
   "metadata": {},
   "outputs": [
    {
     "data": {
      "text/html": [
       "<div>\n",
       "<style scoped>\n",
       "    .dataframe tbody tr th:only-of-type {\n",
       "        vertical-align: middle;\n",
       "    }\n",
       "\n",
       "    .dataframe tbody tr th {\n",
       "        vertical-align: top;\n",
       "    }\n",
       "\n",
       "    .dataframe thead th {\n",
       "        text-align: right;\n",
       "    }\n",
       "</style>\n",
       "<table border=\"1\" class=\"dataframe\">\n",
       "  <thead>\n",
       "    <tr style=\"text-align: right;\">\n",
       "      <th></th>\n",
       "      <th>STOP_FRISK_ID</th>\n",
       "      <th>STOP_FRISK_DATE</th>\n",
       "      <th>STOP_FRISK_TIME</th>\n",
       "      <th>YEAR2</th>\n",
       "      <th>MONTH2</th>\n",
       "      <th>DAY2</th>\n",
       "      <th>STOP_WAS_INITIATED</th>\n",
       "      <th>SPRINT_NUMBER</th>\n",
       "      <th>RECORD_STATUS_CODE</th>\n",
       "      <th>ISSUING_OFFICER_RANK</th>\n",
       "      <th>...</th>\n",
       "      <th>STOP_LOCATION_SECTOR_CODE</th>\n",
       "      <th>STOP_LOCATION_APARTMENT</th>\n",
       "      <th>STOP_LOCATION_FULL_ADDRESS</th>\n",
       "      <th>STOP_LOCATION_PREMISES_NAME</th>\n",
       "      <th>STOP_LOCATION_STREET_NAME</th>\n",
       "      <th>STOP_LOCATION_X</th>\n",
       "      <th>STOP_LOCATION_Y</th>\n",
       "      <th>STOP_LOCATION_ZIP_CODE</th>\n",
       "      <th>STOP_LOCATION_PATROL_BORO_NAME</th>\n",
       "      <th>STOP_LOCATION_BORO_NAME</th>\n",
       "    </tr>\n",
       "  </thead>\n",
       "  <tbody>\n",
       "    <tr>\n",
       "      <th>0</th>\n",
       "      <td>1</td>\n",
       "      <td>1/16/2017</td>\n",
       "      <td>14:26:00</td>\n",
       "      <td>2017</td>\n",
       "      <td>January</td>\n",
       "      <td>Monday</td>\n",
       "      <td>Based on Self Initiated</td>\n",
       "      <td>11617924</td>\n",
       "      <td>APP</td>\n",
       "      <td>SGT</td>\n",
       "      <td>...</td>\n",
       "      <td>(null)</td>\n",
       "      <td>(null)</td>\n",
       "      <td>180 GREENWICH STREET</td>\n",
       "      <td>(null)</td>\n",
       "      <td>GREENWICH STREET</td>\n",
       "      <td>982381</td>\n",
       "      <td>201750</td>\n",
       "      <td>(null)</td>\n",
       "      <td>PBMS</td>\n",
       "      <td>MANHATTAN</td>\n",
       "    </tr>\n",
       "    <tr>\n",
       "      <th>1</th>\n",
       "      <td>2</td>\n",
       "      <td>1/16/2017</td>\n",
       "      <td>14:26:00</td>\n",
       "      <td>2017</td>\n",
       "      <td>January</td>\n",
       "      <td>Monday</td>\n",
       "      <td>Based on Self Initiated</td>\n",
       "      <td>11617924</td>\n",
       "      <td>APP</td>\n",
       "      <td>SGT</td>\n",
       "      <td>...</td>\n",
       "      <td>(null)</td>\n",
       "      <td>(null)</td>\n",
       "      <td>180 GREENWICH STREET</td>\n",
       "      <td>(null)</td>\n",
       "      <td>GREENWICH STREET</td>\n",
       "      <td>982381</td>\n",
       "      <td>201750</td>\n",
       "      <td>(null)</td>\n",
       "      <td>PBMS</td>\n",
       "      <td>MANHATTAN</td>\n",
       "    </tr>\n",
       "    <tr>\n",
       "      <th>2</th>\n",
       "      <td>3</td>\n",
       "      <td>2/8/2017</td>\n",
       "      <td>11:10:00</td>\n",
       "      <td>2017</td>\n",
       "      <td>February</td>\n",
       "      <td>Wednesday</td>\n",
       "      <td>Based on C/W on Scene</td>\n",
       "      <td>17020808555</td>\n",
       "      <td>APP</td>\n",
       "      <td>POM</td>\n",
       "      <td>...</td>\n",
       "      <td>C</td>\n",
       "      <td>(null)</td>\n",
       "      <td>WALL STREET &amp;&amp; BROADWAY</td>\n",
       "      <td>(null)</td>\n",
       "      <td>WALL STREET</td>\n",
       "      <td>981005</td>\n",
       "      <td>197131</td>\n",
       "      <td>(null)</td>\n",
       "      <td>PBMS</td>\n",
       "      <td>MANHATTAN</td>\n",
       "    </tr>\n",
       "    <tr>\n",
       "      <th>3</th>\n",
       "      <td>4</td>\n",
       "      <td>2/20/2017</td>\n",
       "      <td>11:35:00</td>\n",
       "      <td>2017</td>\n",
       "      <td>February</td>\n",
       "      <td>Monday</td>\n",
       "      <td>Based on Self Initiated</td>\n",
       "      <td>9027</td>\n",
       "      <td>APP</td>\n",
       "      <td>POM</td>\n",
       "      <td>...</td>\n",
       "      <td>H</td>\n",
       "      <td>(null)</td>\n",
       "      <td>75 GREENE STREET</td>\n",
       "      <td>(null)</td>\n",
       "      <td>GREENE STREET</td>\n",
       "      <td>984031</td>\n",
       "      <td>202796</td>\n",
       "      <td>(null)</td>\n",
       "      <td>PBMS</td>\n",
       "      <td>MANHATTAN</td>\n",
       "    </tr>\n",
       "  </tbody>\n",
       "</table>\n",
       "<p>4 rows × 86 columns</p>\n",
       "</div>"
      ],
      "text/plain": [
       "   STOP_FRISK_ID STOP_FRISK_DATE STOP_FRISK_TIME  YEAR2    MONTH2       DAY2  \\\n",
       "0              1       1/16/2017        14:26:00   2017   January     Monday   \n",
       "1              2       1/16/2017        14:26:00   2017   January     Monday   \n",
       "2              3        2/8/2017        11:10:00   2017  February  Wednesday   \n",
       "3              4       2/20/2017        11:35:00   2017  February     Monday   \n",
       "\n",
       "        STOP_WAS_INITIATED SPRINT_NUMBER RECORD_STATUS_CODE  \\\n",
       "0  Based on Self Initiated      11617924                APP   \n",
       "1  Based on Self Initiated      11617924                APP   \n",
       "2    Based on C/W on Scene   17020808555                APP   \n",
       "3  Based on Self Initiated          9027                APP   \n",
       "\n",
       "  ISSUING_OFFICER_RANK           ...             STOP_LOCATION_SECTOR_CODE  \\\n",
       "0                  SGT           ...                                (null)   \n",
       "1                  SGT           ...                                (null)   \n",
       "2                  POM           ...                                     C   \n",
       "3                  POM           ...                                     H   \n",
       "\n",
       "  STOP_LOCATION_APARTMENT  STOP_LOCATION_FULL_ADDRESS  \\\n",
       "0                  (null)        180 GREENWICH STREET   \n",
       "1                  (null)        180 GREENWICH STREET   \n",
       "2                  (null)     WALL STREET && BROADWAY   \n",
       "3                  (null)            75 GREENE STREET   \n",
       "\n",
       "  STOP_LOCATION_PREMISES_NAME STOP_LOCATION_STREET_NAME STOP_LOCATION_X  \\\n",
       "0                      (null)          GREENWICH STREET          982381   \n",
       "1                      (null)          GREENWICH STREET          982381   \n",
       "2                      (null)               WALL STREET          981005   \n",
       "3                      (null)             GREENE STREET          984031   \n",
       "\n",
       "  STOP_LOCATION_Y  STOP_LOCATION_ZIP_CODE STOP_LOCATION_PATROL_BORO_NAME  \\\n",
       "0          201750                  (null)                           PBMS   \n",
       "1          201750                  (null)                           PBMS   \n",
       "2          197131                  (null)                           PBMS   \n",
       "3          202796                  (null)                           PBMS   \n",
       "\n",
       "   STOP_LOCATION_BORO_NAME  \n",
       "0                MANHATTAN  \n",
       "1                MANHATTAN  \n",
       "2                MANHATTAN  \n",
       "3                MANHATTAN  \n",
       "\n",
       "[4 rows x 86 columns]"
      ]
     },
     "execution_count": 23,
     "metadata": {},
     "output_type": "execute_result"
    }
   ],
   "source": [
    "import pandas as pd\n",
    "sqf = pd.read_csv(\"%s/sqf-2017.csv\"%os.getenv(\"PUIDATA\"))\n",
    "sqf.head(4)"
   ]
  },
  {
   "cell_type": "code",
   "execution_count": null,
   "metadata": {},
   "outputs": [],
   "source": []
  }
 ],
 "metadata": {
  "kernelspec": {
   "display_name": "Python 3",
   "language": "python",
   "name": "python3"
  },
  "language_info": {
   "codemirror_mode": {
    "name": "ipython",
    "version": 3
   },
   "file_extension": ".py",
   "mimetype": "text/x-python",
   "name": "python",
   "nbconvert_exporter": "python",
   "pygments_lexer": "ipython3",
   "version": "3.6.5"
  }
 },
 "nbformat": 4,
 "nbformat_minor": 2
}
