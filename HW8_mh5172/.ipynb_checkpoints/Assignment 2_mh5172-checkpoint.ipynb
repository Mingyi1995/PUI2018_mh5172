{
 "cells": [
  {
   "cell_type": "code",
   "execution_count": 2,
   "metadata": {},
   "outputs": [
    {
     "name": "stdout",
     "output_type": "stream",
     "text": [
      "Populating the interactive namespace from numpy and matplotlib\n"
     ]
    }
   ],
   "source": [
    "from __future__  import print_function, division\n",
    "import pylab as pl\n",
    "import pandas as pd\n",
    "import numpy as np\n",
    "import os\n",
    "\n",
    "%pylab inline\n",
    "\n",
    "if os.getenv ('PUI2018') is None:\n",
    "    print (\"Must set env variable PUI2018\")\n",
    "if os.getenv ('PUIDATA') is None:\n",
    "    print (\"Must set env variable PUI2018\")\n",
    "\n",
    "import os\n",
    "import json\n"
   ]
  },
  {
   "cell_type": "markdown",
   "metadata": {},
   "source": [
    "# IDEA:\n",
    "### Assuming that weekday citibike usage is more likely to be related to commuting than weekend citibike usage I will compare the fraction of users under and over 30 in weekdays.\n",
    "# NULL HYPOTHESIS:\n",
    "### The proportion of people younger than 30-years-old biking on weekdays' rush-hour is the **same or LOWER** than the proportion of people older than 30-years-old biking on weekdays' rush-hour.\n",
    "\n",
    "# _$H_0$_ : $\\frac{Y_{\\mathrm{weekdays}}}{Y_{\\mathrm{anyday}}} <= \\frac{O_{\\mathrm{weekdays}}}{O_{\\mathrm{anyday}}}$\n",
    "# _$H_1$_ : $\\frac{Y_{\\mathrm{weekdays}}}{Y_{\\mathrm{anyday}}} > \\frac{O_{\\mathrm{weekdays}}}{O_{\\mathrm{anyday}}}$\n",
    "\n",
    "or identically:\n",
    "\n",
    "# _$H_0$_ : $\\frac{Y_{\\mathrm{weekdays}}}{Y_{\\mathrm{anyday}}} - \\frac{O_{\\mathrm{weekdays}}}{O_{\\mathrm{anyday}}} <= 0 $\n",
    "# _$H_1$_ : $\\frac{Y_{\\mathrm{weekdays}}}{Y_{\\mathrm{anyday}}} - \\frac{O_{\\mathrm{weekdays}}}{O_{\\mathrm{anyday}}} > 0$\n",
    "## I will use a significance level  $\\alpha=0.05$\n",
    "\n",
    "#### which means i want the probability of getting a result at least as significant as mine to be less then 5%"
   ]
  },
  {
   "cell_type": "code",
   "execution_count": 3,
   "metadata": {},
   "outputs": [],
   "source": [
    "def getCitiBikeCSV(datestring):\n",
    "    print (\"Downloading\", datestring)\n",
    "    if not os.path.isfile(os.getenv(\"PUIDATA\") + \"/\" + datestring + \"-citibike-tripdata.csv\"):\n",
    "        if os.path.isfile(datestring + \"-citibike-tripdata.csv\"):\n",
    "            if os.system(\"mv \" + datestring + \"-citibike-tripdata.csv \" + os.getenv(\"PUIDATA\")):\n",
    "                print (\"Error moving file!, Please check!\")\n",
    "        else:\n",
    "            if not os.path.isfile(os.getenv(\"PUIDATA\") + \"/\" + datestring + \"-citibike-tripdata.zip\"):\n",
    "                if not os.path.isfile(datestring + \"-citibike-tripdata.zip\"):\n",
    "                    os.system(\"curl -O https://s3.amazonaws.com/tripdata/\" + datestring + \"-citibike-tripdata.zip\")\n",
    "                os.system(\"mv \" + datestring + \"-citibike-tripdata.zip \" + os.getenv(\"PUIDATA\"))\n",
    "            os.system(\"unzip \" + os.getenv(\"PUIDATA\") + \"/\" + datestring + \"-citibike-tripdata.zip\")\n",
    "            #os.system(\"mv \" + datestring + \"-citibike-tripdata.csv \" + os.getenv(\"PUIDATA\"))\n",
    "    if not os.path.isfile(os.getenv(\"PUIDATA\") + \"/\" + datestring + \"-citibike-tripdata.csv\"):\n",
    "        print (\"WARNING!!! something is wrong: the file is not there!\")\n",
    "\n",
    "    else:\n",
    "        print (\"file in place, you can continue\")"
   ]
  },
  {
   "cell_type": "code",
   "execution_count": 4,
   "metadata": {},
   "outputs": [
    {
     "name": "stdout",
     "output_type": "stream",
     "text": [
      "Downloading 201601\n",
      "file in place, you can continue\n"
     ]
    }
   ],
   "source": [
    "datestring = '201601'\n",
    "getCitiBikeCSV(datestring)"
   ]
  },
  {
   "cell_type": "code",
   "execution_count": 6,
   "metadata": {},
   "outputs": [
    {
     "name": "stdout",
     "output_type": "stream",
     "text": [
      "Downloading 201602\n",
      "file in place, you can continue\n"
     ]
    }
   ],
   "source": [
    "datestring = '201602'\n",
    "getCitiBikeCSV(datestring)"
   ]
  },
  {
   "cell_type": "code",
   "execution_count": 8,
   "metadata": {},
   "outputs": [
    {
     "name": "stdout",
     "output_type": "stream",
     "text": [
      "Downloading 201603\n",
      "file in place, you can continue\n"
     ]
    }
   ],
   "source": [
    "datestring = '201603'\n",
    "getCitiBikeCSV(datestring)"
   ]
  },
  {
   "cell_type": "code",
   "execution_count": 9,
   "metadata": {},
   "outputs": [],
   "source": [
    "raw_data1 = pd.read_csv(os.getenv(\"PUIDATA\") + \"/\" + '201601-citibike-tripdata.csv')\n",
    "raw_data1['date'] = pd.to_datetime(raw_data1['starttime'])\n",
    "raw_data2 = pd.read_csv(os.getenv(\"PUIDATA\") + \"/\" + '201602-citibike-tripdata.csv')\n",
    "raw_data2['date'] = pd.to_datetime(raw_data2['starttime'])\n",
    "raw_data3 = pd.read_csv(os.getenv(\"PUIDATA\") + \"/\" + '201603-citibike-tripdata.csv')\n",
    "raw_data3['date'] = pd.to_datetime(raw_data3['starttime'])\n"
   ]
  },
  {
   "cell_type": "code",
   "execution_count": 10,
   "metadata": {},
   "outputs": [],
   "source": [
    "raw_data = pd.concat([raw_data1,raw_data2,raw_data3])"
   ]
  },
  {
   "cell_type": "code",
   "execution_count": 11,
   "metadata": {},
   "outputs": [
    {
     "data": {
      "text/plain": [
       "Index(['tripduration', 'starttime', 'stoptime', 'start station id',\n",
       "       'start station name', 'start station latitude',\n",
       "       'start station longitude', 'end station id', 'end station name',\n",
       "       'end station latitude', 'end station longitude', 'bikeid', 'usertype',\n",
       "       'birth year', 'gender', 'date'],\n",
       "      dtype='object')"
      ]
     },
     "execution_count": 11,
     "metadata": {},
     "output_type": "execute_result"
    }
   ],
   "source": [
    "raw_data.columns"
   ]
  },
  {
   "cell_type": "code",
   "execution_count": 12,
   "metadata": {},
   "outputs": [],
   "source": [
    "raw_data = raw_data[['birth year','date']]"
   ]
  },
  {
   "cell_type": "code",
   "execution_count": 13,
   "metadata": {},
   "outputs": [
    {
     "data": {
      "text/html": [
       "<div>\n",
       "<style scoped>\n",
       "    .dataframe tbody tr th:only-of-type {\n",
       "        vertical-align: middle;\n",
       "    }\n",
       "\n",
       "    .dataframe tbody tr th {\n",
       "        vertical-align: top;\n",
       "    }\n",
       "\n",
       "    .dataframe thead th {\n",
       "        text-align: right;\n",
       "    }\n",
       "</style>\n",
       "<table border=\"1\" class=\"dataframe\">\n",
       "  <thead>\n",
       "    <tr style=\"text-align: right;\">\n",
       "      <th></th>\n",
       "      <th>birth year</th>\n",
       "      <th>date</th>\n",
       "    </tr>\n",
       "  </thead>\n",
       "  <tbody>\n",
       "    <tr>\n",
       "      <th>0</th>\n",
       "      <td>1958.0</td>\n",
       "      <td>2016-01-01 00:00:41</td>\n",
       "    </tr>\n",
       "    <tr>\n",
       "      <th>1</th>\n",
       "      <td>1969.0</td>\n",
       "      <td>2016-01-01 00:00:45</td>\n",
       "    </tr>\n",
       "    <tr>\n",
       "      <th>2</th>\n",
       "      <td>1982.0</td>\n",
       "      <td>2016-01-01 00:00:48</td>\n",
       "    </tr>\n",
       "    <tr>\n",
       "      <th>3</th>\n",
       "      <td>1961.0</td>\n",
       "      <td>2016-01-01 00:01:06</td>\n",
       "    </tr>\n",
       "    <tr>\n",
       "      <th>4</th>\n",
       "      <td>1952.0</td>\n",
       "      <td>2016-01-01 00:01:12</td>\n",
       "    </tr>\n",
       "  </tbody>\n",
       "</table>\n",
       "</div>"
      ],
      "text/plain": [
       "   birth year                date\n",
       "0      1958.0 2016-01-01 00:00:41\n",
       "1      1969.0 2016-01-01 00:00:45\n",
       "2      1982.0 2016-01-01 00:00:48\n",
       "3      1961.0 2016-01-01 00:01:06\n",
       "4      1952.0 2016-01-01 00:01:12"
      ]
     },
     "execution_count": 13,
     "metadata": {},
     "output_type": "execute_result"
    }
   ],
   "source": [
    "raw_data.head()"
   ]
  },
  {
   "cell_type": "code",
   "execution_count": 102,
   "metadata": {},
   "outputs": [
    {
     "data": {
      "text/html": [
       "<div>\n",
       "<style scoped>\n",
       "    .dataframe tbody tr th:only-of-type {\n",
       "        vertical-align: middle;\n",
       "    }\n",
       "\n",
       "    .dataframe tbody tr th {\n",
       "        vertical-align: top;\n",
       "    }\n",
       "\n",
       "    .dataframe thead th {\n",
       "        text-align: right;\n",
       "    }\n",
       "</style>\n",
       "<table border=\"1\" class=\"dataframe\">\n",
       "  <thead>\n",
       "    <tr style=\"text-align: right;\">\n",
       "      <th></th>\n",
       "      <th>birth year</th>\n",
       "      <th>date</th>\n",
       "      <th>weekday</th>\n",
       "      <th>week</th>\n",
       "      <th>hour</th>\n",
       "    </tr>\n",
       "  </thead>\n",
       "  <tbody>\n",
       "    <tr>\n",
       "      <th>0</th>\n",
       "      <td>1958.0</td>\n",
       "      <td>2016-01-01 00:00:41</td>\n",
       "      <td>5</td>\n",
       "      <td>53</td>\n",
       "      <td>0</td>\n",
       "    </tr>\n",
       "    <tr>\n",
       "      <th>1</th>\n",
       "      <td>1969.0</td>\n",
       "      <td>2016-01-01 00:00:45</td>\n",
       "      <td>5</td>\n",
       "      <td>53</td>\n",
       "      <td>0</td>\n",
       "    </tr>\n",
       "    <tr>\n",
       "      <th>2</th>\n",
       "      <td>1982.0</td>\n",
       "      <td>2016-01-01 00:00:48</td>\n",
       "      <td>5</td>\n",
       "      <td>53</td>\n",
       "      <td>0</td>\n",
       "    </tr>\n",
       "    <tr>\n",
       "      <th>3</th>\n",
       "      <td>1961.0</td>\n",
       "      <td>2016-01-01 00:01:06</td>\n",
       "      <td>5</td>\n",
       "      <td>53</td>\n",
       "      <td>0</td>\n",
       "    </tr>\n",
       "    <tr>\n",
       "      <th>4</th>\n",
       "      <td>1952.0</td>\n",
       "      <td>2016-01-01 00:01:12</td>\n",
       "      <td>5</td>\n",
       "      <td>53</td>\n",
       "      <td>0</td>\n",
       "    </tr>\n",
       "  </tbody>\n",
       "</table>\n",
       "</div>"
      ],
      "text/plain": [
       "   birth year                date  weekday  week  hour\n",
       "0      1958.0 2016-01-01 00:00:41        5    53     0\n",
       "1      1969.0 2016-01-01 00:00:45        5    53     0\n",
       "2      1982.0 2016-01-01 00:00:48        5    53     0\n",
       "3      1961.0 2016-01-01 00:01:06        5    53     0\n",
       "4      1952.0 2016-01-01 00:01:12        5    53     0"
      ]
     },
     "execution_count": 102,
     "metadata": {},
     "output_type": "execute_result"
    }
   ],
   "source": [
    "raw_data['weekday'] = raw_data['date'].dt.weekday + 1\n",
    "raw_data['week'] = raw_data['date'].dt.week\n",
    "raw_data['hour'] = raw_data['date'].dt.hour\n",
    "raw_data.dropna(axis='index',how='any',inplace=True)\n",
    "raw_data.head()"
   ]
  },
  {
   "cell_type": "code",
   "execution_count": 114,
   "metadata": {},
   "outputs": [],
   "source": [
    "young = raw_data[(raw_data['birth year'] <= 1986)]\n",
    "old = raw_data[(raw_data['birth year'] > 1986)]"
   ]
  },
  {
   "cell_type": "code",
   "execution_count": 124,
   "metadata": {},
   "outputs": [],
   "source": [
    "week_index = set(raw_data['week'].tolist())\n",
    "young_ratio = {}\n",
    "old_ratio = {}\n",
    "young_commu = young[(((young['weekday']!=6)&(young['weekday']!=7))&(young['hour']== 8)|(young['hour']==9)|(young['hour']==17)|(young['hour']==18))]\n",
    "old_commu = old[((old['weekday']!=6)&(old['weekday']!=7))&((old['hour']== 8)|(old['hour']==9)|(old['hour']==17)|(old['hour']==18))]\n",
    "for i in week_index:\n",
    "    you_inweek = young_commu[young_commu['week']==i]\n",
    "    old_inweek = old_commu[old_commu['week']==i]\n",
    "    you_any = young[young['week']==i]\n",
    "    old_any = old[old['week']==i]\n",
    "    young_ratio[i] = len(you_inweek)/len(you_any)\n",
    "    old_ratio[i] = len(old_inweek)/len(old_any)"
   ]
  },
  {
   "cell_type": "code",
   "execution_count": 126,
   "metadata": {},
   "outputs": [
    {
     "data": {
      "image/png": "[encoded data removed]",
      "text/plain": [
       "<Figure size 720x720 with 1 Axes>"
      ]
     },
     "metadata": {},
     "output_type": "display_data"
    }
   ],
   "source": [
    "import matplotlib.pyplot as plt \n",
    "y_o = list(young_ratio.keys())\n",
    "plt.figure(figsize=(10,10))\n",
    "plt.bar(np.arange(-0.2,len(y_o)-0.2,1), height=list(young_ratio.values()), fc = '#8600b3', width=0.2, tick_label=y_o, label='young')\n",
    "plt.bar(np.arange(0.1,len(y_o)+0.1,1), height=list(old_ratio.values()), fc = '#e6e6e6', width=0.2,label='old')\n",
    "\n",
    "# plt.axis('off')\n",
    "\n",
    "# plt.bar(anyday, bottom=weekday, label='old',tick_label = name_list,fc = 'silver')\n",
    "plt.xlabel('Week of Year',fontsize=16)\n",
    "\n",
    "plt.ylabel('Ratio of Riders in Weekdays',fontsize=16)\n",
    "plt.legend(fontsize=14)\n",
    "plt.show()"
   ]
  },
  {
   "cell_type": "markdown",
   "metadata": {},
   "source": [
    "### Figure 1: Comparing among young people and old people, the proportion of weekdays' riders in the first 14 weeks of 2016 (the 53rd week is the first week)."
   ]
  },
  {
   "cell_type": "markdown",
   "metadata": {},
   "source": [
    "# Z test"
   ]
  },
  {
   "cell_type": "code",
   "execution_count": 127,
   "metadata": {},
   "outputs": [],
   "source": [
    "young_mean = np.mean(np.array(list(young_ratio.values())))\n",
    "old_mean = np.mean(np.array(list(old_ratio.values())))\n",
    "young_std =  np.std(np.array(list(young_ratio.values())))\n",
    "old_std = np.std(np.array(list(old_ratio.values())))"
   ]
  },
  {
   "cell_type": "code",
   "execution_count": 129,
   "metadata": {},
   "outputs": [
    {
     "name": "stdout",
     "output_type": "stream",
     "text": [
      "z-test= 0.5926508956569718 \n",
      " We cannot reject the null hypothesis, the proportion of people younger than 30-years-old biking on weekdays rush-hour is the Same or LOWER than the proportion of people older than 30-years-old biking on weekdays rush hour\n"
     ]
    }
   ],
   "source": [
    "\n",
    "z_test = (young_mean - old_mean) / sqrt((young_std/len(list(young_ratio.values())))+(old_std/len(list(old_ratio.values()))))\n",
    "if abs(z_test) > 1.64:\n",
    "    print('z-test=', z_test, '\\n','We can reject the null hypothesis, the proportion of people younger than 30-years-old biking on weekdays rush-hour is the higher than the proportion of people older than 30-years-old biking on weekdays rush hour')\n",
    "else:\n",
    "    print('z-test=', z_test, '\\n','We cannot reject the null hypothesis, the proportion of people younger than 30-years-old biking on weekdays rush-hour is the Same or LOWER than the proportion of people older than 30-years-old biking on weekdays rush hour')\n",
    "\n",
    "\n"
   ]
  }
 ],
 "metadata": {
  "kernelspec": {
   "display_name": "Python 3",
   "language": "python",
   "name": "python3"
  },
  "language_info": {
   "codemirror_mode": {
    "name": "ipython",
    "version": 3
   },
   "file_extension": ".py",
   "mimetype": "text/x-python",
   "name": "python",
   "nbconvert_exporter": "python",
   "pygments_lexer": "ipython3",
   "version": "3.6.5"
  }
 },
 "nbformat": 4,
 "nbformat_minor": 2
}
