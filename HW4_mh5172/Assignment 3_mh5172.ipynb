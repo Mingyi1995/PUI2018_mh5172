{
 "cells": [
  {
   "cell_type": "markdown",
   "metadata": {},
   "source": [
    "# IDEA:\n",
    "## The average travel time of new bus route is not significant different from origin X8 bus route.\n",
    "\n",
    "# NULL HYPOTHESIS:\n",
    "## The average travel time of new bus route is equal to the origin X8 bus route.\n",
    "# ALTERNATIVE HYPOTHESIS\n",
    "## The average travel time of new bus route is not equal to the origin X8 bus route.\n",
    "\n",
    "# _$H_0$_ : ${\\mu_{\\mathrm{newbus}}} = {\\mu_{\\mathrm{oribus}}}$\n",
    "# _$H_1$_ : ${\\mu_{\\mathrm{newbus}}} \\not = {\\mu_{\\mathrm{oribus}}}$\n",
    "\n",
    "or identically:\n",
    "\n",
    "# _$H_0$_ : ${\\mu_{\\mathrm{newbus}}} - {\\mu_{\\mathrm{oribus}}} = 0 $\n",
    "# _$H_1$_ : ${\\mu_{\\mathrm{newbus}}} - {\\mu_{\\mathrm{oribus}}} \\not= 0$\n",
    "## I will use a significance level  $\\alpha=0.05$\n",
    "\n",
    "#### which means i want the probability of getting a result at least as significant as mine to be less then 5%\n",
    "#### In this two-tailed case, when the absent value of *Z* is larger than 1.96, we can reject the null hypothesis."
   ]
  },
  {
   "cell_type": "code",
   "execution_count": 1,
   "metadata": {},
   "outputs": [],
   "source": [
    "import pylab as pl\n",
    "import pandas as pd\n",
    "import numpy as np\n",
    "import os"
   ]
  },
  {
   "cell_type": "code",
   "execution_count": 6,
   "metadata": {},
   "outputs": [
    {
     "name": "stdout",
     "output_type": "stream",
     "text": [
      "--2018-10-02 23:16:07--  https://raw.githubusercontent.com/fedhere/PUI2018_fb55/master/Lab4_fb55/times.txt\n",
      "Resolving raw.githubusercontent.com (raw.githubusercontent.com)... 151.101.200.133\n",
      "Connecting to raw.githubusercontent.com (raw.githubusercontent.com)|151.101.200.133|:443... connected.\n",
      "HTTP request sent, awaiting response... 200 OK\n",
      "Length: 1179 (1.2K) [text/plain]\n",
      "Saving to: ‘times.txt.4’\n",
      "\n",
      "times.txt.4         100%[===================>]   1.15K  --.-KB/s    in 0s      \n",
      "\n",
      "2018-10-02 23:16:07 (227 MB/s) - ‘times.txt.4’ saved [1179/1179]\n",
      "\n"
     ]
    }
   ],
   "source": [
    "!wget https://raw.githubusercontent.com/fedhere/PUI2018_fb55/master/Lab4_fb55/times.txt"
   ]
  },
  {
   "cell_type": "code",
   "execution_count": 3,
   "metadata": {},
   "outputs": [
    {
     "data": {
      "text/html": [
       "<div>\n",
       "<table border=\"1\" class=\"dataframe\">\n",
       "  <thead>\n",
       "    <tr style=\"text-align: right;\">\n",
       "      <th></th>\n",
       "      <th>0</th>\n",
       "    </tr>\n",
       "  </thead>\n",
       "  <tbody>\n",
       "    <tr>\n",
       "      <th>0</th>\n",
       "      <td>31.622239</td>\n",
       "    </tr>\n",
       "    <tr>\n",
       "      <th>1</th>\n",
       "      <td>32.821376</td>\n",
       "    </tr>\n",
       "    <tr>\n",
       "      <th>2</th>\n",
       "      <td>30.229101</td>\n",
       "    </tr>\n",
       "    <tr>\n",
       "      <th>3</th>\n",
       "      <td>31.413766</td>\n",
       "    </tr>\n",
       "    <tr>\n",
       "      <th>4</th>\n",
       "      <td>39.010550</td>\n",
       "    </tr>\n",
       "  </tbody>\n",
       "</table>\n",
       "</div>"
      ],
      "text/plain": [
       "           0\n",
       "0  31.622239\n",
       "1  32.821376\n",
       "2  30.229101\n",
       "3  31.413766\n",
       "4  39.010550"
      ]
     },
     "execution_count": 3,
     "metadata": {},
     "output_type": "execute_result"
    }
   ],
   "source": [
    "data = pd.read_table('times.txt', header = None)\n",
    "data.head()"
   ]
  },
  {
   "cell_type": "code",
   "execution_count": 10,
   "metadata": {},
   "outputs": [
    {
     "name": "stdout",
     "output_type": "stream",
     "text": [
      "Z-value equals to: -2.14905157561\n",
      "The absent value of Z-value equals to: 2.14905157561\n"
     ]
    }
   ],
   "source": [
    "mu_0 = 36.\n",
    "time_bar = float(data.mean())\n",
    "n = len(data)\n",
    "sigma = float(data.std())\n",
    "z = (time_bar - mu_0)/(sigma/(np.sqrt(n)))\n",
    "print('Z-value is:',z)\n",
    "print('The absent value of Z-value is:',abs(z))"
   ]
  },
  {
   "cell_type": "markdown",
   "metadata": {},
   "source": [
    "### In this case, we used two-tailed test, should be compared with ${\\alpha_{\\mathrm{0.05/2}}}$. *Z* is lager than ${\\alpha_{\\mathrm{0.05/2}}} = 1.96$, thus we are able to reject the null hypothesis,  and conclude that the average travel time of new bus line is different from the origin X8 bus line."
   ]
  },
  {
   "cell_type": "code",
   "execution_count": null,
   "metadata": {},
   "outputs": [],
   "source": []
  }
 ],
 "metadata": {
  "kernelspec": {
   "display_name": "PUI2016_Python3",
   "language": "python",
   "name": "pui2016_python3"
  },
  "language_info": {
   "codemirror_mode": {
    "name": "ipython",
    "version": 3
   },
   "file_extension": ".py",
   "mimetype": "text/x-python",
   "name": "python",
   "nbconvert_exporter": "python",
   "pygments_lexer": "ipython3",
   "version": "3.5.4"
  }
 },
 "nbformat": 4,
 "nbformat_minor": 2
}
