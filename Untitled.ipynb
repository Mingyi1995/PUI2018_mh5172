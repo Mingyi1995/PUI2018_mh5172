{
 "cells": [
  {
   "cell_type": "code",
   "execution_count": 2,
   "metadata": {},
   "outputs": [
    {
     "name": "stdout",
     "output_type": "stream",
     "text": [
      "Populating the interactive namespace from numpy and matplotlib\n"
     ]
    }
   ],
   "source": [
    "import numpy as np\n",
    "import pylab as pl\n",
    "%pylab inline\n"
   ]
  },
  {
   "cell_type": "code",
   "execution_count": 5,
   "metadata": {},
   "outputs": [],
   "source": [
    "s_1 = np.random.randn(30)\n",
    "def z_test(m, n, mu=0, sigma=1):\n",
    "    z = (mu-m)/(sigma/(np.sqrt(n)))\n",
    "    return z"
   ]
  },
  {
   "cell_type": "code",
   "execution_count": 6,
   "metadata": {},
   "outputs": [
    {
     "data": {
      "text/plain": [
       "-10.0"
      ]
     },
     "execution_count": 6,
     "metadata": {},
     "output_type": "execute_result"
    }
   ],
   "source": [
    "z_test(1,100)"
   ]
  },
  {
   "cell_type": "code",
   "execution_count": 12,
   "metadata": {},
   "outputs": [
    {
     "name": "stdout",
     "output_type": "stream",
     "text": [
      "[0.7383675501236134, -1.4775611089651843, 0.3290006966244983, 0.708993279282026, 0.5010283949737538, -0.5281572656424709, 0.6367998254079901, -0.048708888315476616, -1.6567640340100196, -1.1084465178943645, 1.464525172273192, 1.4841354623178251, -1.1561618372467122, -1.0087099819041456, -1.844858771161278, -0.9304597847951621, 0.34202048355948167, -1.448435219444254, -0.39523545977036495, 1.7313253314222663, -0.1562560308957789, 0.17017084166943555, 0.5261787435993743, -1.5185996696452186, 2.375383958081385, -0.8082226045364588, 2.2522486792947825, -1.2872925653039367, 0.2455921449827773, 2.4734367032127027, 0.7096611570807932, 1.1999424159505767, -1.2983944681641297, -1.0506930396982241, -0.33391717721457936, 0.2618392973883009, -0.18044051847676784, 1.69496139699096, -1.1922467455768602, -0.8953379782145167, -0.23197065475251966, -0.5643344943337754, -0.7690884836664456, 0.7707987722587417, 0.9176956488064718, -2.0751935299042104, -0.7987873383763578, 0.6731028888205522, 0.8656302872610991, -1.0665473394473304, -0.8005696604932314, 1.7871753940424568, -0.404164441971367, 0.9721101806965529, -1.2949889094158924, -1.3067387861840638, -1.3423733341891693, 0.7782778191591175, 1.3764981942767425, -1.2498644494532634, -0.7736376108802908, -0.26481482988187677, -0.39656209382707225, 0.8980389162018106, -0.7829631283047033, -0.055811561787668516, -0.8670068353358177, -0.8408228061811994, 0.7101576391859091, -0.9209042483061483, 0.6627925729458257, -0.21253234246289543, -1.076585893538959, 1.19862661109414, -0.6020546829631146, -1.0379898580194196, 0.8919742758518011, -0.08771214967931447, -0.014046342330282126, 0.7356931686934225, -1.5832347341951905, 1.5607623479005501, -0.22256395115386274, 0.5067713089110337, 0.713039443320631, 0.06177775904130946, -0.7049629230559492, -0.7883663200325677, -0.03425693314641029, -0.4726405612537918, -0.5205947617227982, -0.8367233693569635, -1.040918070351305, 0.361334230713863, 0.0018875403158715716, -1.3828816736586969, 0.5906150280504469, 0.5962528786185946, 0.40593377025511285, 0.26488991883705904]\n"
     ]
    }
   ],
   "source": [
    "n_sample = 30\n",
    "z_result = []\n",
    "for i in range(100):\n",
    "    z_result.append(z_test(np.random.randn(n_sample).mean(),n_sample))\n",
    "print (z_result)\n",
    "    \n",
    "    "
   ]
  },
  {
   "cell_type": "code",
   "execution_count": 32,
   "metadata": {},
   "outputs": [],
   "source": [
    "import scipy\n",
    "from scipy import stats\n",
    "# scipy.stats.kstest?\n",
    "np.random.seed(999)"
   ]
  },
  {
   "cell_type": "code",
   "execution_count": 33,
   "metadata": {},
   "outputs": [
    {
     "data": {
      "text/plain": [
       "KstestResult(statistic=0.016344431331899, pvalue=0.9521289020329357)"
      ]
     },
     "execution_count": 33,
     "metadata": {},
     "output_type": "execute_result"
    }
   ],
   "source": [
    "\n",
    "dist_n = np.random.randn(1000)\n",
    "scipy.stats.kstest(dist_n, 'norm')"
   ]
  },
  {
   "cell_type": "code",
   "execution_count": 34,
   "metadata": {},
   "outputs": [
    {
     "data": {
      "text/plain": [
       "AndersonResult(statistic=0.26231814126674635, critical_values=array([0.574, 0.653, 0.784, 0.914, 1.088]), significance_level=array([15. , 10. ,  5. ,  2.5,  1. ]))"
      ]
     },
     "execution_count": 34,
     "metadata": {},
     "output_type": "execute_result"
    }
   ],
   "source": [
    "scipy.stats.anderson(dist_n, dist='norm')"
   ]
  },
  {
   "cell_type": "code",
   "execution_count": 35,
   "metadata": {},
   "outputs": [],
   "source": [
    "scipy.stats.ks_2samp?"
   ]
  },
  {
   "cell_type": "code",
   "execution_count": 38,
   "metadata": {},
   "outputs": [
    {
     "data": {
      "text/plain": [
       "Ks_2sampResult(statistic=0.69, pvalue=6.666540553634634e-22)"
      ]
     },
     "execution_count": 38,
     "metadata": {},
     "output_type": "execute_result"
    }
   ],
   "source": [
    "scipy.stats.ks_2samp(np.random.randn(100),np.random.poisson(lam=2,size=100))"
   ]
  },
  {
   "cell_type": "code",
   "execution_count": null,
   "metadata": {},
   "outputs": [],
   "source": []
  }
 ],
 "metadata": {
  "kernelspec": {
   "display_name": "Python 3",
   "language": "python",
   "name": "python3"
  },
  "language_info": {
   "codemirror_mode": {
    "name": "ipython",
    "version": 3
   },
   "file_extension": ".py",
   "mimetype": "text/x-python",
   "name": "python",
   "nbconvert_exporter": "python",
   "pygments_lexer": "ipython3",
   "version": "3.6.5"
  }
 },
 "nbformat": 4,
 "nbformat_minor": 2
}
